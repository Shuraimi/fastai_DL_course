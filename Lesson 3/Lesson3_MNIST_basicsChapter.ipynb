{
  "nbformat": 4,
  "nbformat_minor": 0,
  "metadata": {
    "colab": {
      "provenance": [],
      "authorship_tag": "ABX9TyMQZK4+S7Fub0sAx36okxSc",
      "include_colab_link": true
    },
    "kernelspec": {
      "name": "python3",
      "display_name": "Python 3"
    },
    "language_info": {
      "name": "python"
    }
  },
  "cells": [
    {
      "cell_type": "markdown",
      "metadata": {
        "id": "view-in-github",
        "colab_type": "text"
      },
      "source": [
        "<a href=\"https://colab.research.google.com/github/Shuraimi/fastai_DL_course/blob/main/Lesson3_MNIST_basics.ipynb\" target=\"_parent\"><img src=\"https://colab.research.google.com/assets/colab-badge.svg\" alt=\"Open In Colab\"/></a>"
      ]
    },
    {
      "cell_type": "markdown",
      "source": [
        "# MNIST basics\n",
        "\n",
        "Reproducing the MNIST lesson3 notebook"
      ],
      "metadata": {
        "id": "cdCVm1irqIp6"
      }
    },
    {
      "cell_type": "code",
      "source": [
        "#hide\n",
        "! [ -e /content ] && pip install -Uqq fastbook\n",
        "import fastbook\n",
        "fastbook.setup_book()"
      ],
      "metadata": {
        "id": "gKkveDXDqu4C",
        "colab": {
          "base_uri": "https://localhost:8080/"
        },
        "outputId": "fa2f4001-489e-46c3-983d-c8d792483e50"
      },
      "execution_count": 1,
      "outputs": [
        {
          "output_type": "stream",
          "name": "stdout",
          "text": [
            "\u001b[2K     \u001b[90m━━━━━━━━━━━━━━━━━━━━━━━━━━━━━━━━━━━━━━━━\u001b[0m \u001b[32m719.8/719.8 kB\u001b[0m \u001b[31m5.9 MB/s\u001b[0m eta \u001b[36m0:00:00\u001b[0m\n",
            "\u001b[2K     \u001b[90m━━━━━━━━━━━━━━━━━━━━━━━━━━━━━━━━━━━━━━━━\u001b[0m \u001b[32m547.8/547.8 kB\u001b[0m \u001b[31m8.0 MB/s\u001b[0m eta \u001b[36m0:00:00\u001b[0m\n",
            "\u001b[2K     \u001b[90m━━━━━━━━━━━━━━━━━━━━━━━━━━━━━━━━━━━━━━━━\u001b[0m \u001b[32m40.8/40.8 MB\u001b[0m \u001b[31m7.7 MB/s\u001b[0m eta \u001b[36m0:00:00\u001b[0m\n",
            "\u001b[2K     \u001b[90m━━━━━━━━━━━━━━━━━━━━━━━━━━━━━━━━━━━━━━━━\u001b[0m \u001b[32m116.3/116.3 kB\u001b[0m \u001b[31m7.6 MB/s\u001b[0m eta \u001b[36m0:00:00\u001b[0m\n",
            "\u001b[2K     \u001b[90m━━━━━━━━━━━━━━━━━━━━━━━━━━━━━━━━━━━━━━━━\u001b[0m \u001b[32m64.9/64.9 kB\u001b[0m \u001b[31m3.8 MB/s\u001b[0m eta \u001b[36m0:00:00\u001b[0m\n",
            "\u001b[2K     \u001b[90m━━━━━━━━━━━━━━━━━━━━━━━━━━━━━━━━━━━━━━━━\u001b[0m \u001b[32m194.1/194.1 kB\u001b[0m \u001b[31m6.0 MB/s\u001b[0m eta \u001b[36m0:00:00\u001b[0m\n",
            "\u001b[2K     \u001b[90m━━━━━━━━━━━━━━━━━━━━━━━━━━━━━━━━━━━━━━━━\u001b[0m \u001b[32m134.8/134.8 kB\u001b[0m \u001b[31m9.4 MB/s\u001b[0m eta \u001b[36m0:00:00\u001b[0m\n",
            "\u001b[2K     \u001b[90m━━━━━━━━━━━━━━━━━━━━━━━━━━━━━━━━━━━━━━━━\u001b[0m \u001b[32m1.6/1.6 MB\u001b[0m \u001b[31m41.7 MB/s\u001b[0m eta \u001b[36m0:00:00\u001b[0m\n",
            "\u001b[2K     \u001b[90m━━━━━━━━━━━━━━━━━━━━━━━━━━━━━━━━━━━━━━━━\u001b[0m \u001b[32m21.3/21.3 MB\u001b[0m \u001b[31m40.3 MB/s\u001b[0m eta \u001b[36m0:00:00\u001b[0m\n",
            "\u001b[?25h\u001b[31mERROR: pip's dependency resolver does not currently take into account all the packages that are installed. This behaviour is the source of the following dependency conflicts.\n",
            "cudf-cu12 24.4.1 requires pyarrow<15.0.0a0,>=14.0.1, but you have pyarrow 16.1.0 which is incompatible.\n",
            "google-colab 1.0.0 requires requests==2.31.0, but you have requests 2.32.3 which is incompatible.\n",
            "ibis-framework 8.0.0 requires pyarrow<16,>=2, but you have pyarrow 16.1.0 which is incompatible.\u001b[0m\u001b[31m\n",
            "\u001b[0mMounted at /content/gdrive\n"
          ]
        }
      ]
    },
    {
      "cell_type": "code",
      "source": [
        "#hide\n",
        "from fastai.vision.all import *\n",
        "from fastbook import *\n",
        "\n",
        "matplotlib.rc('image', cmap='Greys')"
      ],
      "metadata": {
        "id": "DA88jqNYqxNt"
      },
      "execution_count": 2,
      "outputs": []
    },
    {
      "cell_type": "markdown",
      "source": [
        "## Under the hood training a digits classifier"
      ],
      "metadata": {
        "id": "uKp4iLNJqRUB"
      }
    },
    {
      "cell_type": "code",
      "execution_count": 3,
      "metadata": {
        "id": "GTngPXwlqBU9",
        "colab": {
          "base_uri": "https://localhost:8080/",
          "height": 54
        },
        "outputId": "2d86aa0f-e88b-4a2c-c460-d7b6556036e0"
      },
      "outputs": [
        {
          "output_type": "display_data",
          "data": {
            "text/plain": [
              "<IPython.core.display.HTML object>"
            ],
            "text/html": [
              "\n",
              "<style>\n",
              "    /* Turns off some styling */\n",
              "    progress {\n",
              "        /* gets rid of default border in Firefox and Opera. */\n",
              "        border: none;\n",
              "        /* Needs to be in here for Safari polyfill so background images work as expected. */\n",
              "        background-size: auto;\n",
              "    }\n",
              "    progress:not([value]), progress:not([value])::-webkit-progress-bar {\n",
              "        background: repeating-linear-gradient(45deg, #7e7e7e, #7e7e7e 10px, #5c5c5c 10px, #5c5c5c 20px);\n",
              "    }\n",
              "    .progress-bar-interrupted, .progress-bar-interrupted::-webkit-progress-bar {\n",
              "        background: #F44336;\n",
              "    }\n",
              "</style>\n"
            ]
          },
          "metadata": {}
        },
        {
          "output_type": "display_data",
          "data": {
            "text/plain": [
              "<IPython.core.display.HTML object>"
            ],
            "text/html": [
              "\n",
              "    <div>\n",
              "      <progress value='3219456' class='' max='3214948' style='width:300px; height:20px; vertical-align: middle;'></progress>\n",
              "      100.14% [3219456/3214948 00:00&lt;00:00]\n",
              "    </div>\n",
              "    "
            ]
          },
          "metadata": {}
        }
      ],
      "source": [
        "# download and extract the MNIST data\n",
        "path=untar_data(URLs.MNIST_SAMPLE)"
      ]
    },
    {
      "cell_type": "code",
      "source": [
        "# set BASE_PATH attribute of Path class to path where we downloaded the dataset for future operations\n",
        "Path.BASE_PATH=path"
      ],
      "metadata": {
        "id": "oSCteoRIqm8R"
      },
      "execution_count": 4,
      "outputs": []
    },
    {
      "cell_type": "code",
      "source": [
        "#get list of directories in the path\n",
        "path.ls()"
      ],
      "metadata": {
        "colab": {
          "base_uri": "https://localhost:8080/"
        },
        "id": "1foh1ehlq-5Y",
        "outputId": "41681921-ab5a-4de1-adcc-3ce1ba8adba7"
      },
      "execution_count": 5,
      "outputs": [
        {
          "output_type": "execute_result",
          "data": {
            "text/plain": [
              "(#3) [Path('valid'),Path('train'),Path('labels.csv')]"
            ]
          },
          "metadata": {},
          "execution_count": 5
        }
      ]
    },
    {
      "cell_type": "code",
      "source": [
        "# check the train folder\n",
        "(path/'train').ls()"
      ],
      "metadata": {
        "colab": {
          "base_uri": "https://localhost:8080/"
        },
        "id": "g-GvlTzbrUfV",
        "outputId": "11ab6400-6bc7-4938-bb25-6a60ae9edab2"
      },
      "execution_count": 6,
      "outputs": [
        {
          "output_type": "execute_result",
          "data": {
            "text/plain": [
              "(#2) [Path('train/3'),Path('train/7')]"
            ]
          },
          "metadata": {},
          "execution_count": 6
        }
      ]
    },
    {
      "cell_type": "code",
      "source": [
        "(path/'train/3').ls()[0]"
      ],
      "metadata": {
        "colab": {
          "base_uri": "https://localhost:8080/"
        },
        "id": "dd8wRFkDr8FW",
        "outputId": "6031f351-ba38-42c7-9c8b-3e712b04665d"
      },
      "execution_count": 7,
      "outputs": [
        {
          "output_type": "execute_result",
          "data": {
            "text/plain": [
              "Path('train/3/28075.png')"
            ]
          },
          "metadata": {},
          "execution_count": 7
        }
      ]
    },
    {
      "cell_type": "code",
      "source": [
        "# look at an image of seven\n",
        "im_7_path=(path/'train/7').ls()[0]\n",
        "img_7=Image.open(im_7_path)\n",
        "img_7"
      ],
      "metadata": {
        "colab": {
          "base_uri": "https://localhost:8080/",
          "height": 45
        },
        "id": "j6NSfb6mrgEU",
        "outputId": "240317c1-2fbc-499b-fc83-54ede32f7f52"
      },
      "execution_count": 8,
      "outputs": [
        {
          "output_type": "execute_result",
          "data": {
            "text/plain": [
              "<PIL.PngImagePlugin.PngImageFile image mode=L size=28x28>"
            ],
            "image/png": "[encoded data removed]"
          },
          "metadata": {},
          "execution_count": 8
        }
      ]
    },
    {
      "cell_type": "code",
      "source": [
        "# create variables which stores image paths of respective digits\n",
        "threes=(path/'train/3').ls().sorted()\n",
        "sevens=(path/'train/7').ls().sorted()"
      ],
      "metadata": {
        "id": "hxVxZeaJsNZO"
      },
      "execution_count": 9,
      "outputs": []
    },
    {
      "cell_type": "code",
      "source": [
        "threes,sevens"
      ],
      "metadata": {
        "colab": {
          "base_uri": "https://localhost:8080/"
        },
        "id": "npzaose3uJbw",
        "outputId": "e3d7482a-e100-428e-8db3-30ab2840d9df"
      },
      "execution_count": 10,
      "outputs": [
        {
          "output_type": "execute_result",
          "data": {
            "text/plain": [
              "((#6131) [Path('train/3/10.png'),Path('train/3/10000.png'),Path('train/3/10011.png'),Path('train/3/10031.png'),Path('train/3/10034.png'),Path('train/3/10042.png'),Path('train/3/10052.png'),Path('train/3/1007.png'),Path('train/3/10074.png'),Path('train/3/10091.png')...],\n",
              " (#6265) [Path('train/7/10002.png'),Path('train/7/1001.png'),Path('train/7/10014.png'),Path('train/7/10019.png'),Path('train/7/10039.png'),Path('train/7/10046.png'),Path('train/7/10050.png'),Path('train/7/10063.png'),Path('train/7/10077.png'),Path('train/7/10086.png')...])"
            ]
          },
          "metadata": {},
          "execution_count": 10
        }
      ]
    },
    {
      "cell_type": "code",
      "source": [
        "# convert image into array form and slice a specific part\n",
        "arr_7=array(img_7)[10:,15:]\n",
        "arr_7"
      ],
      "metadata": {
        "colab": {
          "base_uri": "https://localhost:8080/",
          "height": 59
        },
        "id": "1-123QI7uTxw",
        "outputId": "4d9bcbeb-4de9-4ca7-ea2a-c2b81d169dc0"
      },
      "execution_count": 11,
      "outputs": [
        {
          "output_type": "execute_result",
          "data": {
            "text/plain": [
              "array([[151, 151, 151, 253, 252, 233,  91,   0,   0,   0,   0,   0,   0],\n",
              "       [  0,   0,  82, 214, 253, 224,  20,   0,   0,   0,   0,   0,   0],\n",
              "       [  0,   0, 162, 253, 252, 162,   0,   0,   0,   0,   0,   0,   0],\n",
              "       [  0,  31, 233, 254, 192,  41,   0,   0,   0,   0,   0,   0,   0],\n",
              "       [  0, 132, 252, 253, 151,   0,   0,   0,   0,   0,   0,   0,   0],\n",
              "       [ 21, 173, 253, 203,  20,   0,   0,   0,   0,   0,   0,   0,   0],\n",
              "       [142, 253, 252, 102,   0,   0,   0,   0,   0,   0,   0,   0,   0],\n",
              "       [233, 254, 233,   0,   0,   0,   0,   0,   0,   0,   0,   0,   0],\n",
              "       [252, 253, 111,   0,   0,   0,   0,   0,   0,   0,   0,   0,   0],\n",
              "       [253, 102,   0,   0,   0,   0,   0,   0,   0,   0,   0,   0,   0],\n",
              "       [252,  20,   0,   0,   0,   0,   0,   0,   0,   0,   0,   0,   0],\n",
              "       [ 71,   0,   0,   0,   0,   0,   0,   0,   0,   0,   0,   0,   0],\n",
              "       [ 10,   0,   0,   0,   0,   0,   0,   0,   0,   0,   0,   0,   0],\n",
              "       [  0,   0,   0,   0,   0,   0,   0,   0,   0,   0,   0,   0,   0],\n",
              "       [  0,   0,   0,   0,   0,   0,   0,   0,   0,   0,   0,   0,   0],\n",
              "       [  0,   0,   0,   0,   0,   0,   0,   0,   0,   0,   0,   0,   0],\n",
              "       [  0,   0,   0,   0,   0,   0,   0,   0,   0,   0,   0,   0,   0],\n",
              "       [  0,   0,   0,   0,   0,   0,   0,   0,   0,   0,   0,   0,   0]], dtype=uint8)"
            ],
            "text/html": [
              "<style>\n",
              "      .ndarray_repr .ndarray_raw_data {\n",
              "        display: none;\n",
              "      }\n",
              "      .ndarray_repr.show_array .ndarray_raw_data {\n",
              "        display: block;\n",
              "      }\n",
              "      .ndarray_repr.show_array .ndarray_image_preview {\n",
              "        display: none;\n",
              "      }\n",
              "      </style>\n",
              "      <div id=\"id-3f4f3544-f554-4508-b514-649e054c5957\" class=\"ndarray_repr\"><pre>ndarray (18, 13) <button style=\"padding: 0 2px;\">show data</button></pre><img src=\"data:image/png;base64,iVBORw0KGgoAAAANSUhEUgAAAA0AAAASCAAAAAClAAvuAAAAXElEQVR4nGOczsCQ9v9t0VIGKAi69veBCIzDsOjvn0VwjvzLfwc0oWwmhlTh/9evw6RE1/49jdDV9/dPGpzD8PLfSwSH4c/ffCTeXyR1DAx/RJB57sgcBi4GqgMAIS0d9aTgiRYAAAAASUVORK5CYII=\" class=\"ndarray_image_preview\" /><pre class=\"ndarray_raw_data\">array([[151, 151, 151, 253, 252, 233,  91,   0,   0,   0,   0,   0,   0],\n",
              "       [  0,   0,  82, 214, 253, 224,  20,   0,   0,   0,   0,   0,   0],\n",
              "       [  0,   0, 162, 253, 252, 162,   0,   0,   0,   0,   0,   0,   0],\n",
              "       [  0,  31, 233, 254, 192,  41,   0,   0,   0,   0,   0,   0,   0],\n",
              "       [  0, 132, 252, 253, 151,   0,   0,   0,   0,   0,   0,   0,   0],\n",
              "       [ 21, 173, 253, 203,  20,   0,   0,   0,   0,   0,   0,   0,   0],\n",
              "       [142, 253, 252, 102,   0,   0,   0,   0,   0,   0,   0,   0,   0],\n",
              "       [233, 254, 233,   0,   0,   0,   0,   0,   0,   0,   0,   0,   0],\n",
              "       [252, 253, 111,   0,   0,   0,   0,   0,   0,   0,   0,   0,   0],\n",
              "       [253, 102,   0,   0,   0,   0,   0,   0,   0,   0,   0,   0,   0],\n",
              "       [252,  20,   0,   0,   0,   0,   0,   0,   0,   0,   0,   0,   0],\n",
              "       [ 71,   0,   0,   0,   0,   0,   0,   0,   0,   0,   0,   0,   0],\n",
              "       [ 10,   0,   0,   0,   0,   0,   0,   0,   0,   0,   0,   0,   0],\n",
              "       [  0,   0,   0,   0,   0,   0,   0,   0,   0,   0,   0,   0,   0],\n",
              "       [  0,   0,   0,   0,   0,   0,   0,   0,   0,   0,   0,   0,   0],\n",
              "       [  0,   0,   0,   0,   0,   0,   0,   0,   0,   0,   0,   0,   0],\n",
              "       [  0,   0,   0,   0,   0,   0,   0,   0,   0,   0,   0,   0,   0],\n",
              "       [  0,   0,   0,   0,   0,   0,   0,   0,   0,   0,   0,   0,   0]], dtype=uint8)</pre></div><script>\n",
              "      (() => {\n",
              "      const titles = ['show data', 'hide data'];\n",
              "      let index = 0\n",
              "      document.querySelector('#id-3f4f3544-f554-4508-b514-649e054c5957 button').onclick = (e) => {\n",
              "        document.querySelector('#id-3f4f3544-f554-4508-b514-649e054c5957').classList.toggle('show_array');\n",
              "        index = (++index) % 2;\n",
              "        document.querySelector('#id-3f4f3544-f554-4508-b514-649e054c5957 button').textContent = titles[index];\n",
              "        e.preventDefault();\n",
              "        e.stopPropagation();\n",
              "      }\n",
              "      })();\n",
              "    </script>"
            ]
          },
          "metadata": {},
          "execution_count": 11
        }
      ]
    },
    {
      "cell_type": "markdown",
      "source": [
        "Then view it using pandas"
      ],
      "metadata": {
        "id": "nlEsfu55uyTA"
      }
    },
    {
      "cell_type": "code",
      "source": [
        "df=pd.DataFrame(arr_7)\n",
        "df.style.set_properties(**{'font-size':'6pt'}).background_gradient('Greys')"
      ],
      "metadata": {
        "colab": {
          "base_uri": "https://localhost:8080/",
          "height": 634
        },
        "id": "xhQ2P6e9u1Gb",
        "outputId": "f4bcff37-7f33-4290-9262-28f86704d189"
      },
      "execution_count": 12,
      "outputs": [
        {
          "output_type": "execute_result",
          "data": {
            "text/plain": [
              "<pandas.io.formats.style.Styler at 0x7d00a33311b0>"
            ],
            "text/html": [
              "<style type=\"text/css\">\n",
              "#T_9a00e_row0_col0, #T_9a00e_row0_col1, #T_9a00e_row0_col2, #T_9a00e_row4_col4 {\n",
              "  font-size: 6pt;\n",
              "  background-color: #7b7b7b;\n",
              "  color: #f1f1f1;\n",
              "}\n",
              "#T_9a00e_row0_col3, #T_9a00e_row0_col4, #T_9a00e_row2_col3, #T_9a00e_row2_col4, #T_9a00e_row4_col2, #T_9a00e_row4_col3, #T_9a00e_row6_col1, #T_9a00e_row6_col2, #T_9a00e_row8_col0, #T_9a00e_row8_col1, #T_9a00e_row10_col0 {\n",
              "  font-size: 6pt;\n",
              "  background-color: #010101;\n",
              "  color: #f1f1f1;\n",
              "}\n",
              "#T_9a00e_row0_col5, #T_9a00e_row0_col6, #T_9a00e_row1_col4, #T_9a00e_row3_col3, #T_9a00e_row5_col2, #T_9a00e_row7_col1, #T_9a00e_row9_col0 {\n",
              "  font-size: 6pt;\n",
              "  background-color: #000000;\n",
              "  color: #f1f1f1;\n",
              "}\n",
              "#T_9a00e_row0_col7, #T_9a00e_row0_col8, #T_9a00e_row0_col9, #T_9a00e_row0_col10, #T_9a00e_row0_col11, #T_9a00e_row0_col12, #T_9a00e_row1_col0, #T_9a00e_row1_col1, #T_9a00e_row1_col7, #T_9a00e_row1_col8, #T_9a00e_row1_col9, #T_9a00e_row1_col10, #T_9a00e_row1_col11, #T_9a00e_row1_col12, #T_9a00e_row2_col0, #T_9a00e_row2_col1, #T_9a00e_row2_col6, #T_9a00e_row2_col7, #T_9a00e_row2_col8, #T_9a00e_row2_col9, #T_9a00e_row2_col10, #T_9a00e_row2_col11, #T_9a00e_row2_col12, #T_9a00e_row3_col0, #T_9a00e_row3_col6, #T_9a00e_row3_col7, #T_9a00e_row3_col8, #T_9a00e_row3_col9, #T_9a00e_row3_col10, #T_9a00e_row3_col11, #T_9a00e_row3_col12, #T_9a00e_row4_col0, #T_9a00e_row4_col5, #T_9a00e_row4_col6, #T_9a00e_row4_col7, #T_9a00e_row4_col8, #T_9a00e_row4_col9, #T_9a00e_row4_col10, #T_9a00e_row4_col11, #T_9a00e_row4_col12, #T_9a00e_row5_col5, #T_9a00e_row5_col6, #T_9a00e_row5_col7, #T_9a00e_row5_col8, #T_9a00e_row5_col9, #T_9a00e_row5_col10, #T_9a00e_row5_col11, #T_9a00e_row5_col12, #T_9a00e_row6_col4, #T_9a00e_row6_col5, #T_9a00e_row6_col6, #T_9a00e_row6_col7, #T_9a00e_row6_col8, #T_9a00e_row6_col9, #T_9a00e_row6_col10, #T_9a00e_row6_col11, #T_9a00e_row6_col12, #T_9a00e_row7_col3, #T_9a00e_row7_col4, #T_9a00e_row7_col5, #T_9a00e_row7_col6, #T_9a00e_row7_col7, #T_9a00e_row7_col8, #T_9a00e_row7_col9, #T_9a00e_row7_col10, #T_9a00e_row7_col11, #T_9a00e_row7_col12, #T_9a00e_row8_col3, #T_9a00e_row8_col4, #T_9a00e_row8_col5, #T_9a00e_row8_col6, #T_9a00e_row8_col7, #T_9a00e_row8_col8, #T_9a00e_row8_col9, #T_9a00e_row8_col10, #T_9a00e_row8_col11, #T_9a00e_row8_col12, #T_9a00e_row9_col2, #T_9a00e_row9_col3, #T_9a00e_row9_col4, #T_9a00e_row9_col5, #T_9a00e_row9_col6, #T_9a00e_row9_col7, #T_9a00e_row9_col8, #T_9a00e_row9_col9, #T_9a00e_row9_col10, #T_9a00e_row9_col11, #T_9a00e_row9_col12, #T_9a00e_row10_col2, #T_9a00e_row10_col3, #T_9a00e_row10_col4, #T_9a00e_row10_col5, #T_9a00e_row10_col6, #T_9a00e_row10_col7, #T_9a00e_row10_col8, #T_9a00e_row10_col9, #T_9a00e_row10_col10, #T_9a00e_row10_col11, #T_9a00e_row10_col12, #T_9a00e_row11_col1, #T_9a00e_row11_col2, #T_9a00e_row11_col3, #T_9a00e_row11_col4, #T_9a00e_row11_col5, #T_9a00e_row11_col6, #T_9a00e_row11_col7, #T_9a00e_row11_col8, #T_9a00e_row11_col9, #T_9a00e_row11_col10, #T_9a00e_row11_col11, #T_9a00e_row11_col12, #T_9a00e_row12_col1, #T_9a00e_row12_col2, #T_9a00e_row12_col3, #T_9a00e_row12_col4, #T_9a00e_row12_col5, #T_9a00e_row12_col6, #T_9a00e_row12_col7, #T_9a00e_row12_col8, #T_9a00e_row12_col9, #T_9a00e_row12_col10, #T_9a00e_row12_col11, #T_9a00e_row12_col12, #T_9a00e_row13_col0, #T_9a00e_row13_col1, #T_9a00e_row13_col2, #T_9a00e_row13_col3, #T_9a00e_row13_col4, #T_9a00e_row13_col5, #T_9a00e_row13_col6, #T_9a00e_row13_col7, #T_9a00e_row13_col8, #T_9a00e_row13_col9, #T_9a00e_row13_col10, #T_9a00e_row13_col11, #T_9a00e_row13_col12, #T_9a00e_row14_col0, #T_9a00e_row14_col1, #T_9a00e_row14_col2, #T_9a00e_row14_col3, #T_9a00e_row14_col4, #T_9a00e_row14_col5, #T_9a00e_row14_col6, #T_9a00e_row14_col7, #T_9a00e_row14_col8, #T_9a00e_row14_col9, #T_9a00e_row14_col10, #T_9a00e_row14_col11, #T_9a00e_row14_col12, #T_9a00e_row15_col0, #T_9a00e_row15_col1, #T_9a00e_row15_col2, #T_9a00e_row15_col3, #T_9a00e_row15_col4, #T_9a00e_row15_col5, #T_9a00e_row15_col6, #T_9a00e_row15_col7, #T_9a00e_row15_col8, #T_9a00e_row15_col9, #T_9a00e_row15_col10, #T_9a00e_row15_col11, #T_9a00e_row15_col12, #T_9a00e_row16_col0, #T_9a00e_row16_col1, #T_9a00e_row16_col2, #T_9a00e_row16_col3, #T_9a00e_row16_col4, #T_9a00e_row16_col5, #T_9a00e_row16_col6, #T_9a00e_row16_col7, #T_9a00e_row16_col8, #T_9a00e_row16_col9, #T_9a00e_row16_col10, #T_9a00e_row16_col11, #T_9a00e_row16_col12, #T_9a00e_row17_col0, #T_9a00e_row17_col1, #T_9a00e_row17_col2, #T_9a00e_row17_col3, #T_9a00e_row17_col4, #T_9a00e_row17_col5, #T_9a00e_row17_col6, #T_9a00e_row17_col7, #T_9a00e_row17_col8, #T_9a00e_row17_col9, #T_9a00e_row17_col10, #T_9a00e_row17_col11, #T_9a00e_row17_col12 {\n",
              "  font-size: 6pt;\n",
              "  background-color: #ffffff;\n",
              "  color: #000000;\n",
              "}\n",
              "#T_9a00e_row1_col2 {\n",
              "  font-size: 6pt;\n",
              "  background-color: #c9c9c9;\n",
              "  color: #000000;\n",
              "}\n",
              "#T_9a00e_row1_col3 {\n",
              "  font-size: 6pt;\n",
              "  background-color: #303030;\n",
              "  color: #f1f1f1;\n",
              "}\n",
              "#T_9a00e_row1_col5 {\n",
              "  font-size: 6pt;\n",
              "  background-color: #0a0a0a;\n",
              "  color: #f1f1f1;\n",
              "}\n",
              "#T_9a00e_row1_col6 {\n",
              "  font-size: 6pt;\n",
              "  background-color: #dfdfdf;\n",
              "  color: #000000;\n",
              "}\n",
              "#T_9a00e_row2_col2 {\n",
              "  font-size: 6pt;\n",
              "  background-color: #6f6f6f;\n",
              "  color: #f1f1f1;\n",
              "}\n",
              "#T_9a00e_row2_col5 {\n",
              "  font-size: 6pt;\n",
              "  background-color: #616161;\n",
              "  color: #f1f1f1;\n",
              "}\n",
              "#T_9a00e_row3_col1 {\n",
              "  font-size: 6pt;\n",
              "  background-color: #f0f0f0;\n",
              "  color: #000000;\n",
              "}\n",
              "#T_9a00e_row3_col2, #T_9a00e_row7_col0, #T_9a00e_row7_col2 {\n",
              "  font-size: 6pt;\n",
              "  background-color: #171717;\n",
              "  color: #f1f1f1;\n",
              "}\n",
              "#T_9a00e_row3_col4 {\n",
              "  font-size: 6pt;\n",
              "  background-color: #4e4e4e;\n",
              "  color: #f1f1f1;\n",
              "}\n",
              "#T_9a00e_row3_col5 {\n",
              "  font-size: 6pt;\n",
              "  background-color: #e7e7e7;\n",
              "  color: #000000;\n",
              "}\n",
              "#T_9a00e_row4_col1 {\n",
              "  font-size: 6pt;\n",
              "  background-color: #909090;\n",
              "  color: #f1f1f1;\n",
              "}\n",
              "#T_9a00e_row5_col0 {\n",
              "  font-size: 6pt;\n",
              "  background-color: #f5f5f5;\n",
              "  color: #000000;\n",
              "}\n",
              "#T_9a00e_row5_col1 {\n",
              "  font-size: 6pt;\n",
              "  background-color: #646464;\n",
              "  color: #f1f1f1;\n",
              "}\n",
              "#T_9a00e_row5_col3 {\n",
              "  font-size: 6pt;\n",
              "  background-color: #404040;\n",
              "  color: #f1f1f1;\n",
              "}\n",
              "#T_9a00e_row5_col4, #T_9a00e_row10_col1 {\n",
              "  font-size: 6pt;\n",
              "  background-color: #f6f6f6;\n",
              "  color: #000000;\n",
              "}\n",
              "#T_9a00e_row6_col0 {\n",
              "  font-size: 6pt;\n",
              "  background-color: #858585;\n",
              "  color: #f1f1f1;\n",
              "}\n",
              "#T_9a00e_row6_col3, #T_9a00e_row9_col1 {\n",
              "  font-size: 6pt;\n",
              "  background-color: #b5b5b5;\n",
              "  color: #000000;\n",
              "}\n",
              "#T_9a00e_row8_col2 {\n",
              "  font-size: 6pt;\n",
              "  background-color: #a9a9a9;\n",
              "  color: #f1f1f1;\n",
              "}\n",
              "#T_9a00e_row11_col0 {\n",
              "  font-size: 6pt;\n",
              "  background-color: #d3d3d3;\n",
              "  color: #000000;\n",
              "}\n",
              "#T_9a00e_row12_col0 {\n",
              "  font-size: 6pt;\n",
              "  background-color: #fafafa;\n",
              "  color: #000000;\n",
              "}\n",
              "</style>\n",
              "<table id=\"T_9a00e\" class=\"dataframe\">\n",
              "  <thead>\n",
              "    <tr>\n",
              "      <th class=\"blank level0\" >&nbsp;</th>\n",
              "      <th id=\"T_9a00e_level0_col0\" class=\"col_heading level0 col0\" >0</th>\n",
              "      <th id=\"T_9a00e_level0_col1\" class=\"col_heading level0 col1\" >1</th>\n",
              "      <th id=\"T_9a00e_level0_col2\" class=\"col_heading level0 col2\" >2</th>\n",
              "      <th id=\"T_9a00e_level0_col3\" class=\"col_heading level0 col3\" >3</th>\n",
              "      <th id=\"T_9a00e_level0_col4\" class=\"col_heading level0 col4\" >4</th>\n",
              "      <th id=\"T_9a00e_level0_col5\" class=\"col_heading level0 col5\" >5</th>\n",
              "      <th id=\"T_9a00e_level0_col6\" class=\"col_heading level0 col6\" >6</th>\n",
              "      <th id=\"T_9a00e_level0_col7\" class=\"col_heading level0 col7\" >7</th>\n",
              "      <th id=\"T_9a00e_level0_col8\" class=\"col_heading level0 col8\" >8</th>\n",
              "      <th id=\"T_9a00e_level0_col9\" class=\"col_heading level0 col9\" >9</th>\n",
              "      <th id=\"T_9a00e_level0_col10\" class=\"col_heading level0 col10\" >10</th>\n",
              "      <th id=\"T_9a00e_level0_col11\" class=\"col_heading level0 col11\" >11</th>\n",
              "      <th id=\"T_9a00e_level0_col12\" class=\"col_heading level0 col12\" >12</th>\n",
              "    </tr>\n",
              "  </thead>\n",
              "  <tbody>\n",
              "    <tr>\n",
              "      <th id=\"T_9a00e_level0_row0\" class=\"row_heading level0 row0\" >0</th>\n",
              "      <td id=\"T_9a00e_row0_col0\" class=\"data row0 col0\" >151</td>\n",
              "      <td id=\"T_9a00e_row0_col1\" class=\"data row0 col1\" >151</td>\n",
              "      <td id=\"T_9a00e_row0_col2\" class=\"data row0 col2\" >151</td>\n",
              "      <td id=\"T_9a00e_row0_col3\" class=\"data row0 col3\" >253</td>\n",
              "      <td id=\"T_9a00e_row0_col4\" class=\"data row0 col4\" >252</td>\n",
              "      <td id=\"T_9a00e_row0_col5\" class=\"data row0 col5\" >233</td>\n",
              "      <td id=\"T_9a00e_row0_col6\" class=\"data row0 col6\" >91</td>\n",
              "      <td id=\"T_9a00e_row0_col7\" class=\"data row0 col7\" >0</td>\n",
              "      <td id=\"T_9a00e_row0_col8\" class=\"data row0 col8\" >0</td>\n",
              "      <td id=\"T_9a00e_row0_col9\" class=\"data row0 col9\" >0</td>\n",
              "      <td id=\"T_9a00e_row0_col10\" class=\"data row0 col10\" >0</td>\n",
              "      <td id=\"T_9a00e_row0_col11\" class=\"data row0 col11\" >0</td>\n",
              "      <td id=\"T_9a00e_row0_col12\" class=\"data row0 col12\" >0</td>\n",
              "    </tr>\n",
              "    <tr>\n",
              "      <th id=\"T_9a00e_level0_row1\" class=\"row_heading level0 row1\" >1</th>\n",
              "      <td id=\"T_9a00e_row1_col0\" class=\"data row1 col0\" >0</td>\n",
              "      <td id=\"T_9a00e_row1_col1\" class=\"data row1 col1\" >0</td>\n",
              "      <td id=\"T_9a00e_row1_col2\" class=\"data row1 col2\" >82</td>\n",
              "      <td id=\"T_9a00e_row1_col3\" class=\"data row1 col3\" >214</td>\n",
              "      <td id=\"T_9a00e_row1_col4\" class=\"data row1 col4\" >253</td>\n",
              "      <td id=\"T_9a00e_row1_col5\" class=\"data row1 col5\" >224</td>\n",
              "      <td id=\"T_9a00e_row1_col6\" class=\"data row1 col6\" >20</td>\n",
              "      <td id=\"T_9a00e_row1_col7\" class=\"data row1 col7\" >0</td>\n",
              "      <td id=\"T_9a00e_row1_col8\" class=\"data row1 col8\" >0</td>\n",
              "      <td id=\"T_9a00e_row1_col9\" class=\"data row1 col9\" >0</td>\n",
              "      <td id=\"T_9a00e_row1_col10\" class=\"data row1 col10\" >0</td>\n",
              "      <td id=\"T_9a00e_row1_col11\" class=\"data row1 col11\" >0</td>\n",
              "      <td id=\"T_9a00e_row1_col12\" class=\"data row1 col12\" >0</td>\n",
              "    </tr>\n",
              "    <tr>\n",
              "      <th id=\"T_9a00e_level0_row2\" class=\"row_heading level0 row2\" >2</th>\n",
              "      <td id=\"T_9a00e_row2_col0\" class=\"data row2 col0\" >0</td>\n",
              "      <td id=\"T_9a00e_row2_col1\" class=\"data row2 col1\" >0</td>\n",
              "      <td id=\"T_9a00e_row2_col2\" class=\"data row2 col2\" >162</td>\n",
              "      <td id=\"T_9a00e_row2_col3\" class=\"data row2 col3\" >253</td>\n",
              "      <td id=\"T_9a00e_row2_col4\" class=\"data row2 col4\" >252</td>\n",
              "      <td id=\"T_9a00e_row2_col5\" class=\"data row2 col5\" >162</td>\n",
              "      <td id=\"T_9a00e_row2_col6\" class=\"data row2 col6\" >0</td>\n",
              "      <td id=\"T_9a00e_row2_col7\" class=\"data row2 col7\" >0</td>\n",
              "      <td id=\"T_9a00e_row2_col8\" class=\"data row2 col8\" >0</td>\n",
              "      <td id=\"T_9a00e_row2_col9\" class=\"data row2 col9\" >0</td>\n",
              "      <td id=\"T_9a00e_row2_col10\" class=\"data row2 col10\" >0</td>\n",
              "      <td id=\"T_9a00e_row2_col11\" class=\"data row2 col11\" >0</td>\n",
              "      <td id=\"T_9a00e_row2_col12\" class=\"data row2 col12\" >0</td>\n",
              "    </tr>\n",
              "    <tr>\n",
              "      <th id=\"T_9a00e_level0_row3\" class=\"row_heading level0 row3\" >3</th>\n",
              "      <td id=\"T_9a00e_row3_col0\" class=\"data row3 col0\" >0</td>\n",
              "      <td id=\"T_9a00e_row3_col1\" class=\"data row3 col1\" >31</td>\n",
              "      <td id=\"T_9a00e_row3_col2\" class=\"data row3 col2\" >233</td>\n",
              "      <td id=\"T_9a00e_row3_col3\" class=\"data row3 col3\" >254</td>\n",
              "      <td id=\"T_9a00e_row3_col4\" class=\"data row3 col4\" >192</td>\n",
              "      <td id=\"T_9a00e_row3_col5\" class=\"data row3 col5\" >41</td>\n",
              "      <td id=\"T_9a00e_row3_col6\" class=\"data row3 col6\" >0</td>\n",
              "      <td id=\"T_9a00e_row3_col7\" class=\"data row3 col7\" >0</td>\n",
              "      <td id=\"T_9a00e_row3_col8\" class=\"data row3 col8\" >0</td>\n",
              "      <td id=\"T_9a00e_row3_col9\" class=\"data row3 col9\" >0</td>\n",
              "      <td id=\"T_9a00e_row3_col10\" class=\"data row3 col10\" >0</td>\n",
              "      <td id=\"T_9a00e_row3_col11\" class=\"data row3 col11\" >0</td>\n",
              "      <td id=\"T_9a00e_row3_col12\" class=\"data row3 col12\" >0</td>\n",
              "    </tr>\n",
              "    <tr>\n",
              "      <th id=\"T_9a00e_level0_row4\" class=\"row_heading level0 row4\" >4</th>\n",
              "      <td id=\"T_9a00e_row4_col0\" class=\"data row4 col0\" >0</td>\n",
              "      <td id=\"T_9a00e_row4_col1\" class=\"data row4 col1\" >132</td>\n",
              "      <td id=\"T_9a00e_row4_col2\" class=\"data row4 col2\" >252</td>\n",
              "      <td id=\"T_9a00e_row4_col3\" class=\"data row4 col3\" >253</td>\n",
              "      <td id=\"T_9a00e_row4_col4\" class=\"data row4 col4\" >151</td>\n",
              "      <td id=\"T_9a00e_row4_col5\" class=\"data row4 col5\" >0</td>\n",
              "      <td id=\"T_9a00e_row4_col6\" class=\"data row4 col6\" >0</td>\n",
              "      <td id=\"T_9a00e_row4_col7\" class=\"data row4 col7\" >0</td>\n",
              "      <td id=\"T_9a00e_row4_col8\" class=\"data row4 col8\" >0</td>\n",
              "      <td id=\"T_9a00e_row4_col9\" class=\"data row4 col9\" >0</td>\n",
              "      <td id=\"T_9a00e_row4_col10\" class=\"data row4 col10\" >0</td>\n",
              "      <td id=\"T_9a00e_row4_col11\" class=\"data row4 col11\" >0</td>\n",
              "      <td id=\"T_9a00e_row4_col12\" class=\"data row4 col12\" >0</td>\n",
              "    </tr>\n",
              "    <tr>\n",
              "      <th id=\"T_9a00e_level0_row5\" class=\"row_heading level0 row5\" >5</th>\n",
              "      <td id=\"T_9a00e_row5_col0\" class=\"data row5 col0\" >21</td>\n",
              "      <td id=\"T_9a00e_row5_col1\" class=\"data row5 col1\" >173</td>\n",
              "      <td id=\"T_9a00e_row5_col2\" class=\"data row5 col2\" >253</td>\n",
              "      <td id=\"T_9a00e_row5_col3\" class=\"data row5 col3\" >203</td>\n",
              "      <td id=\"T_9a00e_row5_col4\" class=\"data row5 col4\" >20</td>\n",
              "      <td id=\"T_9a00e_row5_col5\" class=\"data row5 col5\" >0</td>\n",
              "      <td id=\"T_9a00e_row5_col6\" class=\"data row5 col6\" >0</td>\n",
              "      <td id=\"T_9a00e_row5_col7\" class=\"data row5 col7\" >0</td>\n",
              "      <td id=\"T_9a00e_row5_col8\" class=\"data row5 col8\" >0</td>\n",
              "      <td id=\"T_9a00e_row5_col9\" class=\"data row5 col9\" >0</td>\n",
              "      <td id=\"T_9a00e_row5_col10\" class=\"data row5 col10\" >0</td>\n",
              "      <td id=\"T_9a00e_row5_col11\" class=\"data row5 col11\" >0</td>\n",
              "      <td id=\"T_9a00e_row5_col12\" class=\"data row5 col12\" >0</td>\n",
              "    </tr>\n",
              "    <tr>\n",
              "      <th id=\"T_9a00e_level0_row6\" class=\"row_heading level0 row6\" >6</th>\n",
              "      <td id=\"T_9a00e_row6_col0\" class=\"data row6 col0\" >142</td>\n",
              "      <td id=\"T_9a00e_row6_col1\" class=\"data row6 col1\" >253</td>\n",
              "      <td id=\"T_9a00e_row6_col2\" class=\"data row6 col2\" >252</td>\n",
              "      <td id=\"T_9a00e_row6_col3\" class=\"data row6 col3\" >102</td>\n",
              "      <td id=\"T_9a00e_row6_col4\" class=\"data row6 col4\" >0</td>\n",
              "      <td id=\"T_9a00e_row6_col5\" class=\"data row6 col5\" >0</td>\n",
              "      <td id=\"T_9a00e_row6_col6\" class=\"data row6 col6\" >0</td>\n",
              "      <td id=\"T_9a00e_row6_col7\" class=\"data row6 col7\" >0</td>\n",
              "      <td id=\"T_9a00e_row6_col8\" class=\"data row6 col8\" >0</td>\n",
              "      <td id=\"T_9a00e_row6_col9\" class=\"data row6 col9\" >0</td>\n",
              "      <td id=\"T_9a00e_row6_col10\" class=\"data row6 col10\" >0</td>\n",
              "      <td id=\"T_9a00e_row6_col11\" class=\"data row6 col11\" >0</td>\n",
              "      <td id=\"T_9a00e_row6_col12\" class=\"data row6 col12\" >0</td>\n",
              "    </tr>\n",
              "    <tr>\n",
              "      <th id=\"T_9a00e_level0_row7\" class=\"row_heading level0 row7\" >7</th>\n",
              "      <td id=\"T_9a00e_row7_col0\" class=\"data row7 col0\" >233</td>\n",
              "      <td id=\"T_9a00e_row7_col1\" class=\"data row7 col1\" >254</td>\n",
              "      <td id=\"T_9a00e_row7_col2\" class=\"data row7 col2\" >233</td>\n",
              "      <td id=\"T_9a00e_row7_col3\" class=\"data row7 col3\" >0</td>\n",
              "      <td id=\"T_9a00e_row7_col4\" class=\"data row7 col4\" >0</td>\n",
              "      <td id=\"T_9a00e_row7_col5\" class=\"data row7 col5\" >0</td>\n",
              "      <td id=\"T_9a00e_row7_col6\" class=\"data row7 col6\" >0</td>\n",
              "      <td id=\"T_9a00e_row7_col7\" class=\"data row7 col7\" >0</td>\n",
              "      <td id=\"T_9a00e_row7_col8\" class=\"data row7 col8\" >0</td>\n",
              "      <td id=\"T_9a00e_row7_col9\" class=\"data row7 col9\" >0</td>\n",
              "      <td id=\"T_9a00e_row7_col10\" class=\"data row7 col10\" >0</td>\n",
              "      <td id=\"T_9a00e_row7_col11\" class=\"data row7 col11\" >0</td>\n",
              "      <td id=\"T_9a00e_row7_col12\" class=\"data row7 col12\" >0</td>\n",
              "    </tr>\n",
              "    <tr>\n",
              "      <th id=\"T_9a00e_level0_row8\" class=\"row_heading level0 row8\" >8</th>\n",
              "      <td id=\"T_9a00e_row8_col0\" class=\"data row8 col0\" >252</td>\n",
              "      <td id=\"T_9a00e_row8_col1\" class=\"data row8 col1\" >253</td>\n",
              "      <td id=\"T_9a00e_row8_col2\" class=\"data row8 col2\" >111</td>\n",
              "      <td id=\"T_9a00e_row8_col3\" class=\"data row8 col3\" >0</td>\n",
              "      <td id=\"T_9a00e_row8_col4\" class=\"data row8 col4\" >0</td>\n",
              "      <td id=\"T_9a00e_row8_col5\" class=\"data row8 col5\" >0</td>\n",
              "      <td id=\"T_9a00e_row8_col6\" class=\"data row8 col6\" >0</td>\n",
              "      <td id=\"T_9a00e_row8_col7\" class=\"data row8 col7\" >0</td>\n",
              "      <td id=\"T_9a00e_row8_col8\" class=\"data row8 col8\" >0</td>\n",
              "      <td id=\"T_9a00e_row8_col9\" class=\"data row8 col9\" >0</td>\n",
              "      <td id=\"T_9a00e_row8_col10\" class=\"data row8 col10\" >0</td>\n",
              "      <td id=\"T_9a00e_row8_col11\" class=\"data row8 col11\" >0</td>\n",
              "      <td id=\"T_9a00e_row8_col12\" class=\"data row8 col12\" >0</td>\n",
              "    </tr>\n",
              "    <tr>\n",
              "      <th id=\"T_9a00e_level0_row9\" class=\"row_heading level0 row9\" >9</th>\n",
              "      <td id=\"T_9a00e_row9_col0\" class=\"data row9 col0\" >253</td>\n",
              "      <td id=\"T_9a00e_row9_col1\" class=\"data row9 col1\" >102</td>\n",
              "      <td id=\"T_9a00e_row9_col2\" class=\"data row9 col2\" >0</td>\n",
              "      <td id=\"T_9a00e_row9_col3\" class=\"data row9 col3\" >0</td>\n",
              "      <td id=\"T_9a00e_row9_col4\" class=\"data row9 col4\" >0</td>\n",
              "      <td id=\"T_9a00e_row9_col5\" class=\"data row9 col5\" >0</td>\n",
              "      <td id=\"T_9a00e_row9_col6\" class=\"data row9 col6\" >0</td>\n",
              "      <td id=\"T_9a00e_row9_col7\" class=\"data row9 col7\" >0</td>\n",
              "      <td id=\"T_9a00e_row9_col8\" class=\"data row9 col8\" >0</td>\n",
              "      <td id=\"T_9a00e_row9_col9\" class=\"data row9 col9\" >0</td>\n",
              "      <td id=\"T_9a00e_row9_col10\" class=\"data row9 col10\" >0</td>\n",
              "      <td id=\"T_9a00e_row9_col11\" class=\"data row9 col11\" >0</td>\n",
              "      <td id=\"T_9a00e_row9_col12\" class=\"data row9 col12\" >0</td>\n",
              "    </tr>\n",
              "    <tr>\n",
              "      <th id=\"T_9a00e_level0_row10\" class=\"row_heading level0 row10\" >10</th>\n",
              "      <td id=\"T_9a00e_row10_col0\" class=\"data row10 col0\" >252</td>\n",
              "      <td id=\"T_9a00e_row10_col1\" class=\"data row10 col1\" >20</td>\n",
              "      <td id=\"T_9a00e_row10_col2\" class=\"data row10 col2\" >0</td>\n",
              "      <td id=\"T_9a00e_row10_col3\" class=\"data row10 col3\" >0</td>\n",
              "      <td id=\"T_9a00e_row10_col4\" class=\"data row10 col4\" >0</td>\n",
              "      <td id=\"T_9a00e_row10_col5\" class=\"data row10 col5\" >0</td>\n",
              "      <td id=\"T_9a00e_row10_col6\" class=\"data row10 col6\" >0</td>\n",
              "      <td id=\"T_9a00e_row10_col7\" class=\"data row10 col7\" >0</td>\n",
              "      <td id=\"T_9a00e_row10_col8\" class=\"data row10 col8\" >0</td>\n",
              "      <td id=\"T_9a00e_row10_col9\" class=\"data row10 col9\" >0</td>\n",
              "      <td id=\"T_9a00e_row10_col10\" class=\"data row10 col10\" >0</td>\n",
              "      <td id=\"T_9a00e_row10_col11\" class=\"data row10 col11\" >0</td>\n",
              "      <td id=\"T_9a00e_row10_col12\" class=\"data row10 col12\" >0</td>\n",
              "    </tr>\n",
              "    <tr>\n",
              "      <th id=\"T_9a00e_level0_row11\" class=\"row_heading level0 row11\" >11</th>\n",
              "      <td id=\"T_9a00e_row11_col0\" class=\"data row11 col0\" >71</td>\n",
              "      <td id=\"T_9a00e_row11_col1\" class=\"data row11 col1\" >0</td>\n",
              "      <td id=\"T_9a00e_row11_col2\" class=\"data row11 col2\" >0</td>\n",
              "      <td id=\"T_9a00e_row11_col3\" class=\"data row11 col3\" >0</td>\n",
              "      <td id=\"T_9a00e_row11_col4\" class=\"data row11 col4\" >0</td>\n",
              "      <td id=\"T_9a00e_row11_col5\" class=\"data row11 col5\" >0</td>\n",
              "      <td id=\"T_9a00e_row11_col6\" class=\"data row11 col6\" >0</td>\n",
              "      <td id=\"T_9a00e_row11_col7\" class=\"data row11 col7\" >0</td>\n",
              "      <td id=\"T_9a00e_row11_col8\" class=\"data row11 col8\" >0</td>\n",
              "      <td id=\"T_9a00e_row11_col9\" class=\"data row11 col9\" >0</td>\n",
              "      <td id=\"T_9a00e_row11_col10\" class=\"data row11 col10\" >0</td>\n",
              "      <td id=\"T_9a00e_row11_col11\" class=\"data row11 col11\" >0</td>\n",
              "      <td id=\"T_9a00e_row11_col12\" class=\"data row11 col12\" >0</td>\n",
              "    </tr>\n",
              "    <tr>\n",
              "      <th id=\"T_9a00e_level0_row12\" class=\"row_heading level0 row12\" >12</th>\n",
              "      <td id=\"T_9a00e_row12_col0\" class=\"data row12 col0\" >10</td>\n",
              "      <td id=\"T_9a00e_row12_col1\" class=\"data row12 col1\" >0</td>\n",
              "      <td id=\"T_9a00e_row12_col2\" class=\"data row12 col2\" >0</td>\n",
              "      <td id=\"T_9a00e_row12_col3\" class=\"data row12 col3\" >0</td>\n",
              "      <td id=\"T_9a00e_row12_col4\" class=\"data row12 col4\" >0</td>\n",
              "      <td id=\"T_9a00e_row12_col5\" class=\"data row12 col5\" >0</td>\n",
              "      <td id=\"T_9a00e_row12_col6\" class=\"data row12 col6\" >0</td>\n",
              "      <td id=\"T_9a00e_row12_col7\" class=\"data row12 col7\" >0</td>\n",
              "      <td id=\"T_9a00e_row12_col8\" class=\"data row12 col8\" >0</td>\n",
              "      <td id=\"T_9a00e_row12_col9\" class=\"data row12 col9\" >0</td>\n",
              "      <td id=\"T_9a00e_row12_col10\" class=\"data row12 col10\" >0</td>\n",
              "      <td id=\"T_9a00e_row12_col11\" class=\"data row12 col11\" >0</td>\n",
              "      <td id=\"T_9a00e_row12_col12\" class=\"data row12 col12\" >0</td>\n",
              "    </tr>\n",
              "    <tr>\n",
              "      <th id=\"T_9a00e_level0_row13\" class=\"row_heading level0 row13\" >13</th>\n",
              "      <td id=\"T_9a00e_row13_col0\" class=\"data row13 col0\" >0</td>\n",
              "      <td id=\"T_9a00e_row13_col1\" class=\"data row13 col1\" >0</td>\n",
              "      <td id=\"T_9a00e_row13_col2\" class=\"data row13 col2\" >0</td>\n",
              "      <td id=\"T_9a00e_row13_col3\" class=\"data row13 col3\" >0</td>\n",
              "      <td id=\"T_9a00e_row13_col4\" class=\"data row13 col4\" >0</td>\n",
              "      <td id=\"T_9a00e_row13_col5\" class=\"data row13 col5\" >0</td>\n",
              "      <td id=\"T_9a00e_row13_col6\" class=\"data row13 col6\" >0</td>\n",
              "      <td id=\"T_9a00e_row13_col7\" class=\"data row13 col7\" >0</td>\n",
              "      <td id=\"T_9a00e_row13_col8\" class=\"data row13 col8\" >0</td>\n",
              "      <td id=\"T_9a00e_row13_col9\" class=\"data row13 col9\" >0</td>\n",
              "      <td id=\"T_9a00e_row13_col10\" class=\"data row13 col10\" >0</td>\n",
              "      <td id=\"T_9a00e_row13_col11\" class=\"data row13 col11\" >0</td>\n",
              "      <td id=\"T_9a00e_row13_col12\" class=\"data row13 col12\" >0</td>\n",
              "    </tr>\n",
              "    <tr>\n",
              "      <th id=\"T_9a00e_level0_row14\" class=\"row_heading level0 row14\" >14</th>\n",
              "      <td id=\"T_9a00e_row14_col0\" class=\"data row14 col0\" >0</td>\n",
              "      <td id=\"T_9a00e_row14_col1\" class=\"data row14 col1\" >0</td>\n",
              "      <td id=\"T_9a00e_row14_col2\" class=\"data row14 col2\" >0</td>\n",
              "      <td id=\"T_9a00e_row14_col3\" class=\"data row14 col3\" >0</td>\n",
              "      <td id=\"T_9a00e_row14_col4\" class=\"data row14 col4\" >0</td>\n",
              "      <td id=\"T_9a00e_row14_col5\" class=\"data row14 col5\" >0</td>\n",
              "      <td id=\"T_9a00e_row14_col6\" class=\"data row14 col6\" >0</td>\n",
              "      <td id=\"T_9a00e_row14_col7\" class=\"data row14 col7\" >0</td>\n",
              "      <td id=\"T_9a00e_row14_col8\" class=\"data row14 col8\" >0</td>\n",
              "      <td id=\"T_9a00e_row14_col9\" class=\"data row14 col9\" >0</td>\n",
              "      <td id=\"T_9a00e_row14_col10\" class=\"data row14 col10\" >0</td>\n",
              "      <td id=\"T_9a00e_row14_col11\" class=\"data row14 col11\" >0</td>\n",
              "      <td id=\"T_9a00e_row14_col12\" class=\"data row14 col12\" >0</td>\n",
              "    </tr>\n",
              "    <tr>\n",
              "      <th id=\"T_9a00e_level0_row15\" class=\"row_heading level0 row15\" >15</th>\n",
              "      <td id=\"T_9a00e_row15_col0\" class=\"data row15 col0\" >0</td>\n",
              "      <td id=\"T_9a00e_row15_col1\" class=\"data row15 col1\" >0</td>\n",
              "      <td id=\"T_9a00e_row15_col2\" class=\"data row15 col2\" >0</td>\n",
              "      <td id=\"T_9a00e_row15_col3\" class=\"data row15 col3\" >0</td>\n",
              "      <td id=\"T_9a00e_row15_col4\" class=\"data row15 col4\" >0</td>\n",
              "      <td id=\"T_9a00e_row15_col5\" class=\"data row15 col5\" >0</td>\n",
              "      <td id=\"T_9a00e_row15_col6\" class=\"data row15 col6\" >0</td>\n",
              "      <td id=\"T_9a00e_row15_col7\" class=\"data row15 col7\" >0</td>\n",
              "      <td id=\"T_9a00e_row15_col8\" class=\"data row15 col8\" >0</td>\n",
              "      <td id=\"T_9a00e_row15_col9\" class=\"data row15 col9\" >0</td>\n",
              "      <td id=\"T_9a00e_row15_col10\" class=\"data row15 col10\" >0</td>\n",
              "      <td id=\"T_9a00e_row15_col11\" class=\"data row15 col11\" >0</td>\n",
              "      <td id=\"T_9a00e_row15_col12\" class=\"data row15 col12\" >0</td>\n",
              "    </tr>\n",
              "    <tr>\n",
              "      <th id=\"T_9a00e_level0_row16\" class=\"row_heading level0 row16\" >16</th>\n",
              "      <td id=\"T_9a00e_row16_col0\" class=\"data row16 col0\" >0</td>\n",
              "      <td id=\"T_9a00e_row16_col1\" class=\"data row16 col1\" >0</td>\n",
              "      <td id=\"T_9a00e_row16_col2\" class=\"data row16 col2\" >0</td>\n",
              "      <td id=\"T_9a00e_row16_col3\" class=\"data row16 col3\" >0</td>\n",
              "      <td id=\"T_9a00e_row16_col4\" class=\"data row16 col4\" >0</td>\n",
              "      <td id=\"T_9a00e_row16_col5\" class=\"data row16 col5\" >0</td>\n",
              "      <td id=\"T_9a00e_row16_col6\" class=\"data row16 col6\" >0</td>\n",
              "      <td id=\"T_9a00e_row16_col7\" class=\"data row16 col7\" >0</td>\n",
              "      <td id=\"T_9a00e_row16_col8\" class=\"data row16 col8\" >0</td>\n",
              "      <td id=\"T_9a00e_row16_col9\" class=\"data row16 col9\" >0</td>\n",
              "      <td id=\"T_9a00e_row16_col10\" class=\"data row16 col10\" >0</td>\n",
              "      <td id=\"T_9a00e_row16_col11\" class=\"data row16 col11\" >0</td>\n",
              "      <td id=\"T_9a00e_row16_col12\" class=\"data row16 col12\" >0</td>\n",
              "    </tr>\n",
              "    <tr>\n",
              "      <th id=\"T_9a00e_level0_row17\" class=\"row_heading level0 row17\" >17</th>\n",
              "      <td id=\"T_9a00e_row17_col0\" class=\"data row17 col0\" >0</td>\n",
              "      <td id=\"T_9a00e_row17_col1\" class=\"data row17 col1\" >0</td>\n",
              "      <td id=\"T_9a00e_row17_col2\" class=\"data row17 col2\" >0</td>\n",
              "      <td id=\"T_9a00e_row17_col3\" class=\"data row17 col3\" >0</td>\n",
              "      <td id=\"T_9a00e_row17_col4\" class=\"data row17 col4\" >0</td>\n",
              "      <td id=\"T_9a00e_row17_col5\" class=\"data row17 col5\" >0</td>\n",
              "      <td id=\"T_9a00e_row17_col6\" class=\"data row17 col6\" >0</td>\n",
              "      <td id=\"T_9a00e_row17_col7\" class=\"data row17 col7\" >0</td>\n",
              "      <td id=\"T_9a00e_row17_col8\" class=\"data row17 col8\" >0</td>\n",
              "      <td id=\"T_9a00e_row17_col9\" class=\"data row17 col9\" >0</td>\n",
              "      <td id=\"T_9a00e_row17_col10\" class=\"data row17 col10\" >0</td>\n",
              "      <td id=\"T_9a00e_row17_col11\" class=\"data row17 col11\" >0</td>\n",
              "      <td id=\"T_9a00e_row17_col12\" class=\"data row17 col12\" >0</td>\n",
              "    </tr>\n",
              "  </tbody>\n",
              "</table>\n"
            ]
          },
          "metadata": {},
          "execution_count": 12
        }
      ]
    },
    {
      "cell_type": "markdown",
      "source": [
        "## First try- Pixel similarity\n",
        "\n",
        "Steps involved :-\n",
        "1. Convert the 3's and 7's images into tensor\n",
        "2. Stack the images, convert it to float and then divide by 255"
      ],
      "metadata": {
        "id": "RKFarxM0v6PQ"
      }
    },
    {
      "cell_type": "markdown",
      "source": [
        "Convert images into tensor"
      ],
      "metadata": {
        "id": "MegKQIYA1fW-"
      }
    },
    {
      "cell_type": "code",
      "source": [
        "threes_tensor=[tensor(Image.open(img))  for img in threes]\n",
        "sevens_tensor=[tensor(Image.open(img)) for img in sevens]\n",
        "len(threes_tensor),len(sevens_tensor)"
      ],
      "metadata": {
        "colab": {
          "base_uri": "https://localhost:8080/"
        },
        "id": "zGdEYAHR1jcy",
        "outputId": "d2c1174e-82ff-47c7-b08a-36ccccd9d56a"
      },
      "execution_count": 13,
      "outputs": [
        {
          "output_type": "execute_result",
          "data": {
            "text/plain": [
              "(6131, 6265)"
            ]
          },
          "metadata": {},
          "execution_count": 13
        }
      ]
    },
    {
      "cell_type": "markdown",
      "source": [
        "Stack all the images of respective digits"
      ],
      "metadata": {
        "id": "AQdOKdP0zfJO"
      }
    },
    {
      "cell_type": "code",
      "source": [
        "stacked_threes=torch.stack(threes_tensor).float()/255\n",
        "stacked_sevens=torch.stack(sevens_tensor).float()/255\n",
        "len(stacked_threes),len(stacked_sevens)"
      ],
      "metadata": {
        "colab": {
          "base_uri": "https://localhost:8080/"
        },
        "id": "hKdwi_X1zmky",
        "outputId": "88b1ce9e-03c0-4581-ce27-4301b9c0a8ca"
      },
      "execution_count": 14,
      "outputs": [
        {
          "output_type": "execute_result",
          "data": {
            "text/plain": [
              "(6131, 6265)"
            ]
          },
          "metadata": {},
          "execution_count": 14
        }
      ]
    },
    {
      "cell_type": "markdown",
      "source": [
        "\n",
        "Find the ideal 3 and 7\n",
        "\n",
        "Why mean(0)?\n",
        "- because it allows us to collapse the number of images(i.e index 0 of the stacked tensor) by taking average across each pixel in image while keeping the 2D shape of the image."
      ],
      "metadata": {
        "id": "WDuRds_J7ixr"
      }
    },
    {
      "cell_type": "code",
      "source": [
        "ideal_3=stacked_threes.mean(0)\n",
        "show_image(ideal_3)"
      ],
      "metadata": {
        "colab": {
          "base_uri": "https://localhost:8080/",
          "height": 131
        },
        "id": "z0E32vwW7lW4",
        "outputId": "036a4cf3-ebc3-4dda-a096-8fe1959c561c"
      },
      "execution_count": 15,
      "outputs": [
        {
          "output_type": "execute_result",
          "data": {
            "text/plain": [
              "<Axes: >"
            ]
          },
          "metadata": {},
          "execution_count": 15
        },
        {
          "output_type": "display_data",
          "data": {
            "text/plain": [
              "<Figure size 100x100 with 1 Axes>"
            ],
            "image/png": "[encoded data removed]"
          },
          "metadata": {}
        }
      ]
    },
    {
      "cell_type": "code",
      "source": [
        "ideal_7=stacked_sevens.mean(0)\n",
        "show_image(ideal_7)"
      ],
      "metadata": {
        "colab": {
          "base_uri": "https://localhost:8080/",
          "height": 131
        },
        "id": "sreqWWDhP5PU",
        "outputId": "c64d5954-f2de-4e98-b4f2-3ab4bfbbfa18"
      },
      "execution_count": 16,
      "outputs": [
        {
          "output_type": "execute_result",
          "data": {
            "text/plain": [
              "<Axes: >"
            ]
          },
          "metadata": {},
          "execution_count": 16
        },
        {
          "output_type": "display_data",
          "data": {
            "text/plain": [
              "<Figure size 100x100 with 1 Axes>"
            ],
            "image/png": "[encoded data removed]"
          },
          "metadata": {}
        }
      ]
    },
    {
      "cell_type": "code",
      "source": [
        "# sample image\n",
        "a_3=stacked_threes[4]\n",
        "show_image(a_3)"
      ],
      "metadata": {
        "colab": {
          "base_uri": "https://localhost:8080/",
          "height": 131
        },
        "id": "s7ihW_ef9Em-",
        "outputId": "7a93b8c8-fb9b-49cf-c7d6-59e855ba4888"
      },
      "execution_count": 17,
      "outputs": [
        {
          "output_type": "execute_result",
          "data": {
            "text/plain": [
              "<Axes: >"
            ]
          },
          "metadata": {},
          "execution_count": 17
        },
        {
          "output_type": "display_data",
          "data": {
            "text/plain": [
              "<Figure size 100x100 with 1 Axes>"
            ],
            "image/png": "[encoded data removed]"
          },
          "metadata": {}
        }
      ]
    },
    {
      "cell_type": "markdown",
      "source": [
        "Now to check how far the image is from ideal 3, we calculate L1/L2 norm."
      ],
      "metadata": {
        "id": "EbBttcto9PoF"
      }
    },
    {
      "cell_type": "code",
      "source": [
        "def L2(a,b): return (((a-b)**2).mean()).sqrt()"
      ],
      "metadata": {
        "id": "uS-mt8IE9npU"
      },
      "execution_count": 18,
      "outputs": []
    },
    {
      "cell_type": "code",
      "source": [
        "def L1(a,b): return ((a-b).abs()).mean((-1,-2))"
      ],
      "metadata": {
        "id": "I7Q3QJ3N9-d8"
      },
      "execution_count": 19,
      "outputs": []
    },
    {
      "cell_type": "code",
      "source": [
        "L2(a_3,ideal_3)"
      ],
      "metadata": {
        "colab": {
          "base_uri": "https://localhost:8080/"
        },
        "id": "_5u_Fuor-JnA",
        "outputId": "11ef1fc2-7c89-4759-d660-382621ca83b6"
      },
      "execution_count": 20,
      "outputs": [
        {
          "output_type": "execute_result",
          "data": {
            "text/plain": [
              "tensor(0.2369)"
            ]
          },
          "metadata": {},
          "execution_count": 20
        }
      ]
    },
    {
      "cell_type": "code",
      "source": [
        "L1(a_3, ideal_3)"
      ],
      "metadata": {
        "colab": {
          "base_uri": "https://localhost:8080/"
        },
        "id": "dDAU-u69-WbI",
        "outputId": "c441c0e7-7002-4256-e01d-394e0dbd60ac"
      },
      "execution_count": 21,
      "outputs": [
        {
          "output_type": "execute_result",
          "data": {
            "text/plain": [
              "tensor(0.1300)"
            ]
          },
          "metadata": {},
          "execution_count": 21
        }
      ]
    },
    {
      "cell_type": "markdown",
      "source": [
        "Now we define a function to check whether an image is a 3 or not"
      ],
      "metadata": {
        "id": "05h5vOwyO3X4"
      }
    },
    {
      "cell_type": "code",
      "source": [
        "def is_3(img):\n",
        "    return L1(img,ideal_3)<L1(img,ideal_7)"
      ],
      "metadata": {
        "id": "ikvliw7mPC68"
      },
      "execution_count": 22,
      "outputs": []
    },
    {
      "cell_type": "code",
      "source": [
        "is_3(a_3)"
      ],
      "metadata": {
        "colab": {
          "base_uri": "https://localhost:8080/"
        },
        "id": "nRf8lQpFQJYd",
        "outputId": "3cab2ac2-5b81-44c3-ba7b-0fe48d24d1d3"
      },
      "execution_count": 23,
      "outputs": [
        {
          "output_type": "execute_result",
          "data": {
            "text/plain": [
              "tensor(True)"
            ]
          },
          "metadata": {},
          "execution_count": 23
        }
      ]
    },
    {
      "cell_type": "markdown",
      "source": [
        "Now in the same way, create validation set"
      ],
      "metadata": {
        "id": "7z2_DutDRxrw"
      }
    },
    {
      "cell_type": "code",
      "source": [
        "\n",
        "# getting paths\n",
        "valid_threes=(path/'valid/3').ls().sorted()\n",
        "valid_sevens=(path/'valid/7').ls().sorted()"
      ],
      "metadata": {
        "id": "S3m9wJarR1Jz"
      },
      "execution_count": 24,
      "outputs": []
    },
    {
      "cell_type": "code",
      "source": [
        "\n",
        "# converting to tensors\n",
        "valid_3_tensors=[tensor(Image.open(o)) for o in valid_threes]\n",
        "valid_7_tensors=[tensor(Image.open(o)) for o in valid_sevens]"
      ],
      "metadata": {
        "id": "z6mcyg8sSj7E"
      },
      "execution_count": 25,
      "outputs": []
    },
    {
      "cell_type": "code",
      "source": [
        "# stacking the images\n",
        "stacked_valid_3=torch.stack(valid_3_tensors).float()/255\n",
        "stacked_valid_7=torch.stack(valid_7_tensors).float()/255"
      ],
      "metadata": {
        "id": "yIog8n3_SFhA"
      },
      "execution_count": 26,
      "outputs": []
    },
    {
      "cell_type": "code",
      "source": [
        "# calculating the distances of valid images\n",
        "valid_3_dist=L1(stacked_valid_3,ideal_3)\n",
        "valid_3_dist,valid_3_dist.shape"
      ],
      "metadata": {
        "colab": {
          "base_uri": "https://localhost:8080/"
        },
        "id": "-VQDHcACT8V9",
        "outputId": "5de18c68-fa12-4f13-f77d-b32a25b997b4"
      },
      "execution_count": 27,
      "outputs": [
        {
          "output_type": "execute_result",
          "data": {
            "text/plain": [
              "(tensor([0.1280, 0.1623, 0.1242,  ..., 0.1508, 0.1263, 0.1260]),\n",
              " torch.Size([1010]))"
            ]
          },
          "metadata": {},
          "execution_count": 27
        }
      ]
    },
    {
      "cell_type": "code",
      "source": [
        "# checking whether it's 3 or not\n",
        "is_3(stacked_valid_3)"
      ],
      "metadata": {
        "colab": {
          "base_uri": "https://localhost:8080/"
        },
        "id": "r9rbhu6_Ubtx",
        "outputId": "a18e72b8-3aa4-47e7-9ae8-ab210a3de573"
      },
      "execution_count": 28,
      "outputs": [
        {
          "output_type": "execute_result",
          "data": {
            "text/plain": [
              "tensor([ True,  True,  True,  ..., False,  True,  True])"
            ]
          },
          "metadata": {},
          "execution_count": 28
        }
      ]
    },
    {
      "cell_type": "code",
      "source": [
        "# calculating accuracy\n",
        "acc_3=is_3(stacked_valid_3).float().mean()\n",
        "acc_7=1-is_3(stacked_valid_7).float().mean()\n",
        "acc_3,acc_7"
      ],
      "metadata": {
        "colab": {
          "base_uri": "https://localhost:8080/"
        },
        "id": "KYlV3WubUkB4",
        "outputId": "07ddb72a-5db8-42d1-e684-a7f1555aeb5a"
      },
      "execution_count": 29,
      "outputs": [
        {
          "output_type": "execute_result",
          "data": {
            "text/plain": [
              "(tensor(0.9168), tensor(0.9854))"
            ]
          },
          "metadata": {},
          "execution_count": 29
        }
      ]
    },
    {
      "cell_type": "markdown",
      "source": [
        "## Using SGD"
      ],
      "metadata": {
        "id": "8NCVc79eVR-W"
      }
    },
    {
      "cell_type": "code",
      "source": [
        "# define a function\n",
        "def x_2(x): return x**2"
      ],
      "metadata": {
        "id": "i5leWs-_VXKU"
      },
      "execution_count": 30,
      "outputs": []
    },
    {
      "cell_type": "code",
      "source": [
        "plot_function(x_2,'x','x**2')"
      ],
      "metadata": {
        "colab": {
          "base_uri": "https://localhost:8080/",
          "height": 229
        },
        "id": "O15RxgC-VeLS",
        "outputId": "89b44da2-4a75-4200-88fb-67fbe95d0f88"
      },
      "execution_count": 31,
      "outputs": [
        {
          "output_type": "display_data",
          "data": {
            "text/plain": [
              "<Figure size 600x400 with 1 Axes>"
            ],
            "image/png": "[encoded data removed]"
          },
          "metadata": {}
        }
      ]
    },
    {
      "cell_type": "code",
      "source": [
        "# plot a point on the curve\n",
        "plot_function(x_2,'x','x**2')\n",
        "plt.scatter(-1.5,x_2(-1.5),c='r')"
      ],
      "metadata": {
        "id": "v1kHQDnVVkA5",
        "colab": {
          "base_uri": "https://localhost:8080/",
          "height": 284
        },
        "outputId": "d2a608f9-f7f3-43e5-f601-95f2903e5ec6"
      },
      "execution_count": 32,
      "outputs": [
        {
          "output_type": "execute_result",
          "data": {
            "text/plain": [
              "<matplotlib.collections.PathCollection at 0x7d00a270cb50>"
            ]
          },
          "metadata": {},
          "execution_count": 32
        },
        {
          "output_type": "display_data",
          "data": {
            "text/plain": [
              "<Figure size 600x400 with 1 Axes>"
            ],
            "image/png": "[encoded data removed]"
          },
          "metadata": {}
        }
      ]
    },
    {
      "cell_type": "markdown",
      "source": [
        "Take a variable and tell PyTorch that you will require gradients and keep a track on it"
      ],
      "metadata": {
        "id": "thxZ81etskkp"
      }
    },
    {
      "cell_type": "code",
      "source": [
        "x=tensor(4.).requires_grad_()"
      ],
      "metadata": {
        "id": "t7gxRAQFtNgg"
      },
      "execution_count": 33,
      "outputs": []
    },
    {
      "cell_type": "code",
      "source": [
        "# call the function and pass x\n",
        "y=x_2(x)"
      ],
      "metadata": {
        "id": "SuXYpCBXtZtD"
      },
      "execution_count": 34,
      "outputs": []
    },
    {
      "cell_type": "code",
      "source": [
        "# calculate gradients\n",
        "y.backward()"
      ],
      "metadata": {
        "id": "aGZqXWJqtjF1"
      },
      "execution_count": 35,
      "outputs": []
    },
    {
      "cell_type": "code",
      "source": [
        "#view gradients\n",
        "x.grad"
      ],
      "metadata": {
        "colab": {
          "base_uri": "https://localhost:8080/"
        },
        "id": "spGaD2q2tnkA",
        "outputId": "4381adc5-157d-4b86-a904-ac41daf29cd8"
      },
      "execution_count": 36,
      "outputs": [
        {
          "output_type": "execute_result",
          "data": {
            "text/plain": [
              "tensor(8.)"
            ]
          },
          "metadata": {},
          "execution_count": 36
        }
      ]
    },
    {
      "cell_type": "code",
      "source": [
        "# create a list of tensors\n",
        "x=tensor([3.,5.,6.]).requires_grad_()"
      ],
      "metadata": {
        "id": "6vDcPDeAts63"
      },
      "execution_count": 37,
      "outputs": []
    },
    {
      "cell_type": "code",
      "source": [
        "def x_2(x): return (x**2).sum()"
      ],
      "metadata": {
        "id": "UPyM-Z6Dt9Z7"
      },
      "execution_count": 38,
      "outputs": []
    },
    {
      "cell_type": "code",
      "source": [
        "y=x_2(x)\n",
        "# calculate gradients\n",
        "y.backward()"
      ],
      "metadata": {
        "id": "4wFOygBguFr2"
      },
      "execution_count": 39,
      "outputs": []
    },
    {
      "cell_type": "code",
      "source": [
        "# view gradients\n",
        "x.grad"
      ],
      "metadata": {
        "colab": {
          "base_uri": "https://localhost:8080/"
        },
        "id": "hguxdqADuMpS",
        "outputId": "c8d61fce-627a-4586-bc7a-ff3cfed3ab7e"
      },
      "execution_count": 40,
      "outputs": [
        {
          "output_type": "execute_result",
          "data": {
            "text/plain": [
              "tensor([ 6., 10., 12.])"
            ]
          },
          "metadata": {},
          "execution_count": 40
        }
      ]
    },
    {
      "cell_type": "code",
      "source": [
        "y"
      ],
      "metadata": {
        "id": "ueCVDULVuSfn",
        "outputId": "733571a5-ff22-4fb3-f3ba-3ee387f79637",
        "colab": {
          "base_uri": "https://localhost:8080/"
        }
      },
      "execution_count": 41,
      "outputs": [
        {
          "output_type": "execute_result",
          "data": {
            "text/plain": [
              "tensor(70., grad_fn=<SumBackward0>)"
            ]
          },
          "metadata": {},
          "execution_count": 41
        }
      ]
    },
    {
      "cell_type": "markdown",
      "source": [
        "## The MNIST loss fucntion"
      ],
      "metadata": {
        "id": "TXk6Khn2FNRX"
      }
    },
    {
      "cell_type": "code",
      "source": [
        "# check shape of stacked_threes\n",
        "stacked_threes.shape+stacked_sevens.shape"
      ],
      "metadata": {
        "colab": {
          "base_uri": "https://localhost:8080/"
        },
        "id": "CWWlTquIGQKH",
        "outputId": "bf9f6357-9991-46f3-f080-76903097679b"
      },
      "execution_count": 42,
      "outputs": [
        {
          "output_type": "execute_result",
          "data": {
            "text/plain": [
              "torch.Size([6131, 28, 28, 6265, 28, 28])"
            ]
          },
          "metadata": {},
          "execution_count": 42
        }
      ]
    },
    {
      "cell_type": "code",
      "source": [
        "# create train x\n",
        "train_x=torch.cat([stacked_threes,stacked_sevens]).view((-1,28*28))\n",
        "train_x.shape"
      ],
      "metadata": {
        "colab": {
          "base_uri": "https://localhost:8080/"
        },
        "id": "y0jwMqDBFQRA",
        "outputId": "a3004822-ac08-4f37-a429-5c76fa590be2"
      },
      "execution_count": 43,
      "outputs": [
        {
          "output_type": "execute_result",
          "data": {
            "text/plain": [
              "torch.Size([12396, 784])"
            ]
          },
          "metadata": {},
          "execution_count": 43
        }
      ]
    },
    {
      "cell_type": "code",
      "source": [
        "# create train labels, convert into tensor\n",
        "train_y=tensor([1]*len(stacked_threes)+[0]*len(stacked_sevens)).unsqueeze(1)\n",
        "train_y.shape\n"
      ],
      "metadata": {
        "colab": {
          "base_uri": "https://localhost:8080/"
        },
        "id": "CvbCCNr2GC2h",
        "outputId": "c3d67f4b-8341-4fdb-e561-8b2fe1e0a09e"
      },
      "execution_count": 44,
      "outputs": [
        {
          "output_type": "execute_result",
          "data": {
            "text/plain": [
              "torch.Size([12396, 1])"
            ]
          },
          "metadata": {},
          "execution_count": 44
        }
      ]
    },
    {
      "cell_type": "code",
      "source": [
        "# create dataset\n",
        "dset=list(zip(train_x,train_y))\n",
        "x,y=dset[0]\n",
        "x.shape,y"
      ],
      "metadata": {
        "colab": {
          "base_uri": "https://localhost:8080/"
        },
        "id": "RU1uiVa-JPiY",
        "outputId": "80c4e4fe-778f-46dd-87fc-d9678d15c670"
      },
      "execution_count": 45,
      "outputs": [
        {
          "output_type": "execute_result",
          "data": {
            "text/plain": [
              "(torch.Size([784]), tensor([1]))"
            ]
          },
          "metadata": {},
          "execution_count": 45
        }
      ]
    },
    {
      "cell_type": "code",
      "source": [
        "# create a validation set\n",
        "valid_x=torch.cat([stacked_valid_3,stacked_valid_7]).view((-1,28*28))\n",
        "valid_y=tensor([1]*len(stacked_valid_3)+[0]*len(stacked_valid_7)).unsqueeze(1)\n",
        "valid_x.shape,valid_y.shape"
      ],
      "metadata": {
        "colab": {
          "base_uri": "https://localhost:8080/"
        },
        "id": "59RSd93oKqey",
        "outputId": "895cf340-9957-409a-d76f-7d4c008776d0"
      },
      "execution_count": 46,
      "outputs": [
        {
          "output_type": "execute_result",
          "data": {
            "text/plain": [
              "(torch.Size([2038, 784]), torch.Size([2038, 1]))"
            ]
          },
          "metadata": {},
          "execution_count": 46
        }
      ]
    },
    {
      "cell_type": "code",
      "source": [
        "# create valid dset\n",
        "valid_dset=list(zip(valid_x,valid_y))"
      ],
      "metadata": {
        "id": "5g7aiNemL1df"
      },
      "execution_count": 47,
      "outputs": []
    },
    {
      "cell_type": "code",
      "source": [
        "# step1 - initialise parameters\n",
        "def init_params(size,std=1.0): return (torch.randn(size)*std).requires_grad_()"
      ],
      "metadata": {
        "id": "PuRtVgHLLqCr"
      },
      "execution_count": 48,
      "outputs": []
    },
    {
      "cell_type": "code",
      "source": [
        "# initialise weights\n",
        "weights=init_params((28*28,1))"
      ],
      "metadata": {
        "id": "3IcBNr0NMUZh"
      },
      "execution_count": 49,
      "outputs": []
    },
    {
      "cell_type": "code",
      "source": [
        "# initilaise bias\n",
        "bias=init_params(1)\n",
        "bias.shape"
      ],
      "metadata": {
        "colab": {
          "base_uri": "https://localhost:8080/"
        },
        "id": "aBwOpa65M2be",
        "outputId": "cd6c10be-3912-431d-b9d8-80f472803518"
      },
      "execution_count": 50,
      "outputs": [
        {
          "output_type": "execute_result",
          "data": {
            "text/plain": [
              "torch.Size([1])"
            ]
          },
          "metadata": {},
          "execution_count": 50
        }
      ]
    },
    {
      "cell_type": "code",
      "source": [
        "train_x[0].shape,weights.shape"
      ],
      "metadata": {
        "colab": {
          "base_uri": "https://localhost:8080/"
        },
        "id": "L3R3QP81NLn1",
        "outputId": "047d0e91-8697-460d-82eb-3fa941ac8b0a"
      },
      "execution_count": 51,
      "outputs": [
        {
          "output_type": "execute_result",
          "data": {
            "text/plain": [
              "(torch.Size([784]), torch.Size([784, 1]))"
            ]
          },
          "metadata": {},
          "execution_count": 51
        }
      ]
    },
    {
      "cell_type": "code",
      "source": [
        "# calculte predictions on sample train_x\n",
        "(train_x[0]*weights.T).sum()+bias"
      ],
      "metadata": {
        "colab": {
          "base_uri": "https://localhost:8080/"
        },
        "id": "CjI6PXW5LDoX",
        "outputId": "78b7c498-52ca-478e-d41e-8049ebe8910a"
      },
      "execution_count": 52,
      "outputs": [
        {
          "output_type": "execute_result",
          "data": {
            "text/plain": [
              "tensor([-6.2330], grad_fn=<AddBackward0>)"
            ]
          },
          "metadata": {},
          "execution_count": 52
        }
      ]
    },
    {
      "cell_type": "code",
      "source": [
        "# we then create a function to calculate predictions on all of train_x\n",
        "def linear1(xb):\n",
        "    return xb@weights+bias"
      ],
      "metadata": {
        "id": "SU8j_0K5NXrk"
      },
      "execution_count": 53,
      "outputs": []
    },
    {
      "cell_type": "code",
      "source": [
        "preds=linear1(train_x)\n",
        "preds"
      ],
      "metadata": {
        "colab": {
          "base_uri": "https://localhost:8080/"
        },
        "id": "FhYQXLIYPAjt",
        "outputId": "b733b3b9-7168-4ebb-bce8-32107c4c8ae3"
      },
      "execution_count": 54,
      "outputs": [
        {
          "output_type": "execute_result",
          "data": {
            "text/plain": [
              "tensor([[ -6.2330],\n",
              "        [-10.6388],\n",
              "        [-20.8865],\n",
              "        ...,\n",
              "        [-15.9176],\n",
              "        [ -1.6866],\n",
              "        [-11.3568]], grad_fn=<AddBackward0>)"
            ]
          },
          "metadata": {},
          "execution_count": 54
        }
      ]
    },
    {
      "cell_type": "code",
      "source": [
        "# checking which predictions were predicted correctly\n",
        "corrects=(preds>0.0)==train_y\n",
        "corrects"
      ],
      "metadata": {
        "colab": {
          "base_uri": "https://localhost:8080/"
        },
        "id": "jfv85l8kPcVQ",
        "outputId": "37afdd1e-9981-4e52-c01a-9425d471ad19"
      },
      "execution_count": 55,
      "outputs": [
        {
          "output_type": "execute_result",
          "data": {
            "text/plain": [
              "tensor([[False],\n",
              "        [False],\n",
              "        [False],\n",
              "        ...,\n",
              "        [ True],\n",
              "        [ True],\n",
              "        [ True]])"
            ]
          },
          "metadata": {},
          "execution_count": 55
        }
      ]
    },
    {
      "cell_type": "code",
      "source": [
        "# convert into float and then take their mean in order to get the accuracy\n",
        "corrects.float().mean().item()"
      ],
      "metadata": {
        "colab": {
          "base_uri": "https://localhost:8080/"
        },
        "id": "Jtxmly1zP_xL",
        "outputId": "69964365-611d-4fd6-98a0-b44459c49baf"
      },
      "execution_count": 56,
      "outputs": [
        {
          "output_type": "execute_result",
          "data": {
            "text/plain": [
              "0.5379961133003235"
            ]
          },
          "metadata": {},
          "execution_count": 56
        }
      ]
    },
    {
      "cell_type": "code",
      "source": [
        "# make slight updation and tell PyTorch not to track these changes\n",
        "with torch.no_grad(): weights[0]*=1.0001"
      ],
      "metadata": {
        "id": "0u44Cu6iQIzQ"
      },
      "execution_count": 57,
      "outputs": []
    },
    {
      "cell_type": "code",
      "source": [
        "# calculating predictions\n",
        "preds=linear1(train_x)\n",
        "preds"
      ],
      "metadata": {
        "colab": {
          "base_uri": "https://localhost:8080/"
        },
        "id": "VaNxtFlJQq30",
        "outputId": "582bdfd3-4c2f-4c89-ebc8-7f1cd1a7e8cb"
      },
      "execution_count": 58,
      "outputs": [
        {
          "output_type": "execute_result",
          "data": {
            "text/plain": [
              "tensor([[ -6.2330],\n",
              "        [-10.6388],\n",
              "        [-20.8865],\n",
              "        ...,\n",
              "        [-15.9176],\n",
              "        [ -1.6866],\n",
              "        [-11.3568]], grad_fn=<AddBackward0>)"
            ]
          },
          "metadata": {},
          "execution_count": 58
        }
      ]
    },
    {
      "cell_type": "code",
      "source": [
        "# check predictions correct\n",
        "((preds>0.0)==train_y).float().mean().item()"
      ],
      "metadata": {
        "colab": {
          "base_uri": "https://localhost:8080/"
        },
        "id": "7tSegpQvQ71E",
        "outputId": "a7e73d4c-b404-4190-c183-588a774796a1"
      },
      "execution_count": 59,
      "outputs": [
        {
          "output_type": "execute_result",
          "data": {
            "text/plain": [
              "0.5379961133003235"
            ]
          },
          "metadata": {},
          "execution_count": 59
        }
      ]
    },
    {
      "cell_type": "markdown",
      "source": [
        "The accuracy didn't change"
      ],
      "metadata": {
        "id": "7kfRLmKQRSL3"
      }
    },
    {
      "cell_type": "code",
      "source": [
        "#create targets and preds to see increase in accuracy\n",
        "trgts=tensor([1,0,1])\n",
        "preds=tensor([0.8,0.5,0.2])"
      ],
      "metadata": {
        "id": "_wW6aUL_RNQo"
      },
      "execution_count": 60,
      "outputs": []
    },
    {
      "cell_type": "code",
      "source": [
        "# defining loss function using torch.where\n",
        "def mnist_loss(predictions,targets):\n",
        "    return torch.where(targets==1,1-predictions,predictions).mean()"
      ],
      "metadata": {
        "id": "bPd8nhhHRrSx"
      },
      "execution_count": 61,
      "outputs": []
    },
    {
      "cell_type": "code",
      "source": [
        "mnist_loss(preds,trgts)"
      ],
      "metadata": {
        "colab": {
          "base_uri": "https://localhost:8080/"
        },
        "id": "fwnPR5CzR9zh",
        "outputId": "b9406d31-918e-42e5-d296-6624eb70b064"
      },
      "execution_count": 62,
      "outputs": [
        {
          "output_type": "execute_result",
          "data": {
            "text/plain": [
              "tensor(0.5000)"
            ]
          },
          "metadata": {},
          "execution_count": 62
        }
      ]
    },
    {
      "cell_type": "code",
      "source": [
        "trgts=tensor([1,0,1])\n",
        "preds=tensor([0.8,0.5,0.9])"
      ],
      "metadata": {
        "id": "oDEQKayZSBYy"
      },
      "execution_count": 63,
      "outputs": []
    },
    {
      "cell_type": "code",
      "source": [
        "mnist_loss(preds,trgts)"
      ],
      "metadata": {
        "colab": {
          "base_uri": "https://localhost:8080/"
        },
        "id": "HBO58drWSOSW",
        "outputId": "223cdcf4-c35b-44bd-849e-bb9803e2873d"
      },
      "execution_count": 64,
      "outputs": [
        {
          "output_type": "execute_result",
          "data": {
            "text/plain": [
              "tensor(0.2667)"
            ]
          },
          "metadata": {},
          "execution_count": 64
        }
      ]
    },
    {
      "cell_type": "markdown",
      "source": [
        "### Sigmoid"
      ],
      "metadata": {
        "id": "N8ICL5syTORt"
      }
    },
    {
      "cell_type": "code",
      "source": [
        "# we apply sigmoid to the predictions to output them to range 0-1\n",
        "# so loss function is updated\n",
        "def mnist_loss(predictions,targets):\n",
        "    preds=predictions.sigmoid()\n",
        "    return torch.where(targets==1,1-preds,preds).mean()"
      ],
      "metadata": {
        "id": "QBIE6BR2SQft"
      },
      "execution_count": 65,
      "outputs": []
    },
    {
      "cell_type": "markdown",
      "source": [
        "### SGD and mini-batches"
      ],
      "metadata": {
        "id": "ZdCdPE1gUBqP"
      }
    },
    {
      "cell_type": "code",
      "source": [
        "coll=range(20)\n",
        "dl=DataLoader(coll,batch_size=4,shuffle=True)\n",
        "list(dl)"
      ],
      "metadata": {
        "colab": {
          "base_uri": "https://localhost:8080/"
        },
        "id": "X9FIYDDlT48k",
        "outputId": "dc60c920-cf74-4693-bc96-72ceffe20413"
      },
      "execution_count": 66,
      "outputs": [
        {
          "output_type": "execute_result",
          "data": {
            "text/plain": [
              "[tensor([ 7, 17,  5,  9]),\n",
              " tensor([15, 19, 11, 10]),\n",
              " tensor([13,  2, 12,  0]),\n",
              " tensor([18, 16,  3,  1]),\n",
              " tensor([ 4,  6, 14,  8])]"
            ]
          },
          "metadata": {},
          "execution_count": 66
        }
      ]
    },
    {
      "cell_type": "markdown",
      "source": [
        "## Putting it all together"
      ],
      "metadata": {
        "id": "JCyKm5WCUp_7"
      }
    },
    {
      "cell_type": "code",
      "source": [
        "# step 1 - randomnly initialise parameters\n",
        "weights=init_params((28*28,1))\n",
        "bias=init_params(1)"
      ],
      "metadata": {
        "id": "D0Hfd-ADUQSa"
      },
      "execution_count": 67,
      "outputs": []
    },
    {
      "cell_type": "code",
      "source": [
        "# had forgotten this\n",
        "dl=DataLoader(dset,batch_size=256)\n",
        "xb,yb=first(dl)\n",
        "xb.shape,yb.shape"
      ],
      "metadata": {
        "colab": {
          "base_uri": "https://localhost:8080/"
        },
        "id": "73oE26xLVXq8",
        "outputId": "d9e7886d-4e53-42e9-8d93-7c2c1d1a500d"
      },
      "execution_count": 68,
      "outputs": [
        {
          "output_type": "execute_result",
          "data": {
            "text/plain": [
              "(torch.Size([256, 784]), torch.Size([256, 1]))"
            ]
          },
          "metadata": {},
          "execution_count": 68
        }
      ]
    },
    {
      "cell_type": "code",
      "source": [
        "# forgot this also\n",
        "valid_dl=DataLoader(valid_dset,batch_size=256)"
      ],
      "metadata": {
        "id": "zacgBR3cVzkr"
      },
      "execution_count": 69,
      "outputs": []
    },
    {
      "cell_type": "code",
      "source": [
        "# take 4 samples as batch\n",
        "batch=train_x[:4]"
      ],
      "metadata": {
        "id": "a6pwuiHHV-I_"
      },
      "execution_count": 70,
      "outputs": []
    },
    {
      "cell_type": "code",
      "source": [
        "# get predictions on the batch\n",
        "preds=linear1(batch)\n",
        "preds"
      ],
      "metadata": {
        "colab": {
          "base_uri": "https://localhost:8080/"
        },
        "id": "p4AXkpgsWH6A",
        "outputId": "7604f848-b9b7-4aa3-a220-2988a2e1e0b0"
      },
      "execution_count": 71,
      "outputs": [
        {
          "output_type": "execute_result",
          "data": {
            "text/plain": [
              "tensor([[15.7077],\n",
              "        [18.6850],\n",
              "        [16.2143],\n",
              "        [17.4726]], grad_fn=<AddBackward0>)"
            ]
          },
          "metadata": {},
          "execution_count": 71
        }
      ]
    },
    {
      "cell_type": "code",
      "source": [
        "# calculate loss\n",
        "loss=mnist_loss(preds,train_y[:4])\n",
        "loss"
      ],
      "metadata": {
        "colab": {
          "base_uri": "https://localhost:8080/"
        },
        "id": "ROveqtHkWPUk",
        "outputId": "9d6b1a20-6da3-4a23-f78a-ad4f7ea7e060"
      },
      "execution_count": 72,
      "outputs": [
        {
          "output_type": "execute_result",
          "data": {
            "text/plain": [
              "tensor(5.9605e-08, grad_fn=<MeanBackward0>)"
            ]
          },
          "metadata": {},
          "execution_count": 72
        }
      ]
    },
    {
      "cell_type": "code",
      "source": [
        "# now calculate gradients and see grads of weights and bias\n",
        "loss.backward()\n"
      ],
      "metadata": {
        "id": "F_XNYW3-WtSo"
      },
      "execution_count": 73,
      "outputs": []
    },
    {
      "cell_type": "code",
      "source": [
        "weights.grad.shape,weights.grad.mean(),bias.grad"
      ],
      "metadata": {
        "colab": {
          "base_uri": "https://localhost:8080/"
        },
        "id": "OZ5bU4_tW6Op",
        "outputId": "9562f693-baf5-434b-a51b-2bf018104b48"
      },
      "execution_count": 74,
      "outputs": [
        {
          "output_type": "execute_result",
          "data": {
            "text/plain": [
              "(torch.Size([784, 1]), tensor(-8.5305e-09), tensor([-5.9605e-08]))"
            ]
          },
          "metadata": {},
          "execution_count": 74
        }
      ]
    },
    {
      "cell_type": "code",
      "source": [
        "# function to calculate gradients\n",
        "def calc_gradient(xb,yb,model):\n",
        "    preds=model(xb)\n",
        "    loss=mnist_loss(preds,yb)\n",
        "    loss.backward()\n"
      ],
      "metadata": {
        "id": "yGGeYXPEXGVo"
      },
      "execution_count": 75,
      "outputs": []
    },
    {
      "cell_type": "code",
      "source": [
        "# use the above function\n",
        "calc_gradient(train_x[:4],train_y[:4],linear1)"
      ],
      "metadata": {
        "id": "nKBERJyTXmEH"
      },
      "execution_count": 76,
      "outputs": []
    },
    {
      "cell_type": "code",
      "source": [
        "weights.grad.mean(),bias.grad"
      ],
      "metadata": {
        "colab": {
          "base_uri": "https://localhost:8080/"
        },
        "id": "smhg9YNeXzwt",
        "outputId": "3d4fac8a-dc0b-46a1-ab94-71b4008c92c9"
      },
      "execution_count": 77,
      "outputs": [
        {
          "output_type": "execute_result",
          "data": {
            "text/plain": [
              "(tensor(-1.7061e-08), tensor([-1.1921e-07]))"
            ]
          },
          "metadata": {},
          "execution_count": 77
        }
      ]
    },
    {
      "cell_type": "markdown",
      "source": [
        "when we call the above cell twice, gradients get added up. So we need to set them to zero."
      ],
      "metadata": {
        "id": "elgFYUB1YBGK"
      }
    },
    {
      "cell_type": "code",
      "source": [
        "weights.grad.zero_()\n",
        "bias.grad.zero_()"
      ],
      "metadata": {
        "colab": {
          "base_uri": "https://localhost:8080/"
        },
        "id": "84ZOC-sSYJhU",
        "outputId": "d4e5596e-e976-4084-f8a2-61447dc8e089"
      },
      "execution_count": 78,
      "outputs": [
        {
          "output_type": "execute_result",
          "data": {
            "text/plain": [
              "tensor([0.])"
            ]
          },
          "metadata": {},
          "execution_count": 78
        }
      ]
    },
    {
      "cell_type": "code",
      "source": [
        "# function for train epoch\n",
        "def train_epoch(model,lr,params):\n",
        "    for xb,yb in dl:\n",
        "        calc_gradient(xb,yb,model)\n",
        "        for p in params:\n",
        "            p.data-=p.grad.data*lr\n",
        "            p.grad.zero_()\n"
      ],
      "metadata": {
        "id": "0tEr36J1YcKi"
      },
      "execution_count": 79,
      "outputs": []
    },
    {
      "cell_type": "code",
      "source": [
        "# we get preds wic match the target\n",
        "(preds>0.0).float()==train_y[:4]"
      ],
      "metadata": {
        "colab": {
          "base_uri": "https://localhost:8080/"
        },
        "id": "Jks2b9DqalzI",
        "outputId": "a56eeeea-1831-4627-c0c6-1ac7ea32546a"
      },
      "execution_count": 80,
      "outputs": [
        {
          "output_type": "execute_result",
          "data": {
            "text/plain": [
              "tensor([[True],\n",
              "        [True],\n",
              "        [True],\n",
              "        [True]])"
            ]
          },
          "metadata": {},
          "execution_count": 80
        }
      ]
    },
    {
      "cell_type": "code",
      "source": [
        "# we define function to calculate batch_accuracy\n",
        "def batch_accuracy(xb,yb):\n",
        "    preds=xb.sigmoid()\n",
        "    corrects=(preds>0.5)==yb\n",
        "    return corrects.float().mean()"
      ],
      "metadata": {
        "id": "WQPDiY89a0f3"
      },
      "execution_count": 81,
      "outputs": []
    },
    {
      "cell_type": "code",
      "source": [
        "batch_accuracy(linear1(batch),train_y[:4])"
      ],
      "metadata": {
        "colab": {
          "base_uri": "https://localhost:8080/"
        },
        "id": "M73MizJdbngI",
        "outputId": "b08614ff-7ae1-4ea8-adcf-b3c3e83a1123"
      },
      "execution_count": 82,
      "outputs": [
        {
          "output_type": "execute_result",
          "data": {
            "text/plain": [
              "tensor(1.)"
            ]
          },
          "metadata": {},
          "execution_count": 82
        }
      ]
    },
    {
      "cell_type": "code",
      "source": [
        "# validate epoch\n",
        "def validate_epoch(model):\n",
        "    accs=[batch_accuracy(model(valid_xb),valid_yb) for valid_xb,valid_yb in valid_dl]\n",
        "    return round(torch.stack(accs).mean().item(),4)"
      ],
      "metadata": {
        "id": "yRD8Qkx-b0at"
      },
      "execution_count": 83,
      "outputs": []
    },
    {
      "cell_type": "code",
      "source": [
        "validate_epoch(linear1)"
      ],
      "metadata": {
        "colab": {
          "base_uri": "https://localhost:8080/"
        },
        "id": "kizZ2uSPcgzk",
        "outputId": "d4cbafea-a4ba-4ce9-a9f3-a76cb73bb8eb"
      },
      "execution_count": 84,
      "outputs": [
        {
          "output_type": "execute_result",
          "data": {
            "text/plain": [
              "0.5516"
            ]
          },
          "metadata": {},
          "execution_count": 84
        }
      ]
    },
    {
      "cell_type": "code",
      "source": [
        "lr=1.\n",
        "params=weights,bias\n",
        "train_epoch(linear1,lr,params)\n",
        "validate_epoch(linear1)"
      ],
      "metadata": {
        "colab": {
          "base_uri": "https://localhost:8080/"
        },
        "id": "zx0vKgdTcmMa",
        "outputId": "8f02b7df-9160-4ca8-f624-09fbf11e0925"
      },
      "execution_count": 85,
      "outputs": [
        {
          "output_type": "execute_result",
          "data": {
            "text/plain": [
              "0.7074"
            ]
          },
          "metadata": {},
          "execution_count": 85
        }
      ]
    },
    {
      "cell_type": "code",
      "source": [
        "# 20 epochs\n",
        "for i in range(20):\n",
        "    train_epoch(linear1,lr,params)\n",
        "    print(validate_epoch(linear1),end=' ')"
      ],
      "metadata": {
        "colab": {
          "base_uri": "https://localhost:8080/"
        },
        "id": "fH-ekUiedRc4",
        "outputId": "966c42dd-d7a7-4554-ae72-9c7d265cbb3a"
      },
      "execution_count": 86,
      "outputs": [
        {
          "output_type": "stream",
          "name": "stdout",
          "text": [
            "0.8544 0.9076 0.9315 0.9452 0.9545 0.9574 0.9633 0.9652 0.9667 0.9682 0.9692 0.9701 0.9711 0.9716 0.9726 0.9736 0.9736 0.975 0.9755 0.9755 "
          ]
        }
      ]
    },
    {
      "cell_type": "markdown",
      "source": [
        "### Craeting an Optimizer"
      ],
      "metadata": {
        "id": "hnEBeDjWf6cn"
      }
    },
    {
      "cell_type": "code",
      "source": [
        "linear_model=nn.Linear(28*28,1)"
      ],
      "metadata": {
        "id": "wIYS2wMbf_zU"
      },
      "execution_count": 87,
      "outputs": []
    },
    {
      "cell_type": "code",
      "source": [
        "#getting model parameters\n",
        "w,b=linear_model.parameters()"
      ],
      "metadata": {
        "id": "ZfwLyPiFgJ1z"
      },
      "execution_count": 88,
      "outputs": []
    },
    {
      "cell_type": "code",
      "source": [
        "w.shape,b.shape"
      ],
      "metadata": {
        "colab": {
          "base_uri": "https://localhost:8080/"
        },
        "id": "FWXviOtbgU7L",
        "outputId": "620b8f89-b48f-4933-cb31-a402009c3aaa"
      },
      "execution_count": 89,
      "outputs": [
        {
          "output_type": "execute_result",
          "data": {
            "text/plain": [
              "(torch.Size([1, 784]), torch.Size([1]))"
            ]
          },
          "metadata": {},
          "execution_count": 89
        }
      ]
    },
    {
      "cell_type": "code",
      "source": [
        "# create an optimizer\n",
        "class BasicOptim:\n",
        "    def __init__(self,params,lr):\n",
        "        self.params=list(params)\n",
        "        self.lr=lr\n",
        "    def step(self,*args,**kwargs):\n",
        "        for p in self.params:\n",
        "            p.data-=p.grad.data*self.lr\n",
        "\n",
        "    def zero_grad(self,*args,**kwargs):\n",
        "        for p in self.params:\n",
        "            p.grad=None\n"
      ],
      "metadata": {
        "id": "B7TKKjCkVOmb"
      },
      "execution_count": 90,
      "outputs": []
    },
    {
      "cell_type": "code",
      "source": [
        "# create an opt instance\n",
        "opt=BasicOptim(linear_model.parameters(),lr)"
      ],
      "metadata": {
        "id": "SJtJzkK5hJqx"
      },
      "execution_count": 91,
      "outputs": []
    },
    {
      "cell_type": "code",
      "source": [
        "#train epoch gets slighlty modified\n",
        "def train_epoch(model):\n",
        "    for xb,yb in dl:\n",
        "        calc_gradient(xb,yb,model)\n",
        "        opt.step()\n",
        "        opt.zero_grad()"
      ],
      "metadata": {
        "id": "V6klPwEGhfeL"
      },
      "execution_count": 92,
      "outputs": []
    },
    {
      "cell_type": "code",
      "source": [
        "# validate epoch reamins same\n",
        "validate_epoch(linear_model)"
      ],
      "metadata": {
        "colab": {
          "base_uri": "https://localhost:8080/"
        },
        "id": "3YtIfzsVhcil",
        "outputId": "724f7be7-c12c-4d21-927e-c543857129e5"
      },
      "execution_count": 93,
      "outputs": [
        {
          "output_type": "execute_result",
          "data": {
            "text/plain": [
              "0.5199"
            ]
          },
          "metadata": {},
          "execution_count": 93
        }
      ]
    },
    {
      "cell_type": "code",
      "source": [
        "# define a function which includes train_epoch and validate_epoch\n",
        "def train_model(model,epochs):\n",
        "    for epoch in range(epochs):\n",
        "        train_epoch(model)\n",
        "        print(validate_epoch(model),end=' ')"
      ],
      "metadata": {
        "id": "ZfLRcXG8iJqN"
      },
      "execution_count": 94,
      "outputs": []
    },
    {
      "cell_type": "code",
      "source": [
        "train_model(linear_model,30)"
      ],
      "metadata": {
        "colab": {
          "base_uri": "https://localhost:8080/"
        },
        "id": "sYuoQGi7ioWB",
        "outputId": "d08d663b-799f-41d4-cfcb-a2bad29ac4b5"
      },
      "execution_count": 95,
      "outputs": [
        {
          "output_type": "stream",
          "name": "stdout",
          "text": [
            "0.4932 0.7612 0.8618 0.9175 0.9351 0.9502 0.9565 0.9638 0.9658 0.9678 0.9697 0.9717 0.9736 0.9751 0.9756 0.977 0.9775 0.9775 0.9785 0.9785 0.979 0.979 0.9795 0.9795 0.9795 0.98 0.98 0.98 0.9809 0.9814 "
          ]
        }
      ]
    },
    {
      "cell_type": "code",
      "source": [
        "# using the SGD from fastai\n",
        "linear_model=nn.Linear(28*28,1)\n",
        "opt=SGD(linear_model.parameters(),lr)\n",
        "train_model(linear_model,30)"
      ],
      "metadata": {
        "colab": {
          "base_uri": "https://localhost:8080/"
        },
        "id": "qOyoGk1FirUD",
        "outputId": "46b67ddf-28d4-407d-862f-3c72e771eb47"
      },
      "execution_count": 96,
      "outputs": [
        {
          "output_type": "stream",
          "name": "stdout",
          "text": [
            "0.4932 0.8232 0.8457 0.9116 0.9346 0.9472 0.956 0.9629 0.9663 0.9678 0.9692 0.9712 0.9736 0.9751 0.9761 0.977 0.9775 0.978 0.9785 0.9785 0.979 0.979 0.979 0.9795 0.9795 0.9795 0.98 0.9804 0.9804 0.9814 "
          ]
        }
      ]
    },
    {
      "cell_type": "code",
      "source": [
        "# create a DataLoaders object\n",
        "dls=DataLoaders(dl,valid_dl)"
      ],
      "metadata": {
        "id": "8gMGpx8Fjfjy"
      },
      "execution_count": 97,
      "outputs": []
    },
    {
      "cell_type": "code",
      "source": [
        "learn=Learner(dls,nn.Linear(28*28,1),opt_func=SGD,metrics=batch_accuracy,loss_func=mnist_loss)"
      ],
      "metadata": {
        "id": "W7f74nPUjqH9"
      },
      "execution_count": 98,
      "outputs": []
    },
    {
      "cell_type": "code",
      "source": [
        "learn.fit(10,lr=lr)"
      ],
      "metadata": {
        "colab": {
          "base_uri": "https://localhost:8080/",
          "height": 383
        },
        "id": "Do_lF32ZkFed",
        "outputId": "ce97cc8f-d4dc-44c4-cd99-6a3bbda3d4a7"
      },
      "execution_count": 99,
      "outputs": [
        {
          "output_type": "display_data",
          "data": {
            "text/plain": [
              "<IPython.core.display.HTML object>"
            ],
            "text/html": [
              "\n",
              "<style>\n",
              "    /* Turns off some styling */\n",
              "    progress {\n",
              "        /* gets rid of default border in Firefox and Opera. */\n",
              "        border: none;\n",
              "        /* Needs to be in here for Safari polyfill so background images work as expected. */\n",
              "        background-size: auto;\n",
              "    }\n",
              "    progress:not([value]), progress:not([value])::-webkit-progress-bar {\n",
              "        background: repeating-linear-gradient(45deg, #7e7e7e, #7e7e7e 10px, #5c5c5c 10px, #5c5c5c 20px);\n",
              "    }\n",
              "    .progress-bar-interrupted, .progress-bar-interrupted::-webkit-progress-bar {\n",
              "        background: #F44336;\n",
              "    }\n",
              "</style>\n"
            ]
          },
          "metadata": {}
        },
        {
          "output_type": "display_data",
          "data": {
            "text/plain": [
              "<IPython.core.display.HTML object>"
            ],
            "text/html": [
              "<table border=\"1\" class=\"dataframe\">\n",
              "  <thead>\n",
              "    <tr style=\"text-align: left;\">\n",
              "      <th>epoch</th>\n",
              "      <th>train_loss</th>\n",
              "      <th>valid_loss</th>\n",
              "      <th>batch_accuracy</th>\n",
              "      <th>time</th>\n",
              "    </tr>\n",
              "  </thead>\n",
              "  <tbody>\n",
              "    <tr>\n",
              "      <td>0</td>\n",
              "      <td>0.636943</td>\n",
              "      <td>0.503635</td>\n",
              "      <td>0.495584</td>\n",
              "      <td>00:00</td>\n",
              "    </tr>\n",
              "    <tr>\n",
              "      <td>1</td>\n",
              "      <td>0.584645</td>\n",
              "      <td>0.131199</td>\n",
              "      <td>0.911678</td>\n",
              "      <td>00:00</td>\n",
              "    </tr>\n",
              "    <tr>\n",
              "      <td>2</td>\n",
              "      <td>0.211909</td>\n",
              "      <td>0.216454</td>\n",
              "      <td>0.797841</td>\n",
              "      <td>00:00</td>\n",
              "    </tr>\n",
              "    <tr>\n",
              "      <td>3</td>\n",
              "      <td>0.091560</td>\n",
              "      <td>0.115545</td>\n",
              "      <td>0.903337</td>\n",
              "      <td>00:00</td>\n",
              "    </tr>\n",
              "    <tr>\n",
              "      <td>4</td>\n",
              "      <td>0.047210</td>\n",
              "      <td>0.081941</td>\n",
              "      <td>0.930815</td>\n",
              "      <td>00:00</td>\n",
              "    </tr>\n",
              "    <tr>\n",
              "      <td>5</td>\n",
              "      <td>0.029983</td>\n",
              "      <td>0.064714</td>\n",
              "      <td>0.946516</td>\n",
              "      <td>00:00</td>\n",
              "    </tr>\n",
              "    <tr>\n",
              "      <td>6</td>\n",
              "      <td>0.022961</td>\n",
              "      <td>0.054218</td>\n",
              "      <td>0.954858</td>\n",
              "      <td>00:00</td>\n",
              "    </tr>\n",
              "    <tr>\n",
              "      <td>7</td>\n",
              "      <td>0.019894</td>\n",
              "      <td>0.047324</td>\n",
              "      <td>0.960746</td>\n",
              "      <td>00:00</td>\n",
              "    </tr>\n",
              "    <tr>\n",
              "      <td>8</td>\n",
              "      <td>0.018379</td>\n",
              "      <td>0.042531</td>\n",
              "      <td>0.964671</td>\n",
              "      <td>00:00</td>\n",
              "    </tr>\n",
              "    <tr>\n",
              "      <td>9</td>\n",
              "      <td>0.017494</td>\n",
              "      <td>0.039028</td>\n",
              "      <td>0.966634</td>\n",
              "      <td>00:00</td>\n",
              "    </tr>\n",
              "  </tbody>\n",
              "</table>"
            ]
          },
          "metadata": {}
        }
      ]
    },
    {
      "cell_type": "markdown",
      "source": [
        "## Adding a non-linearity"
      ],
      "metadata": {
        "id": "7MQpFWXnHnmf"
      }
    },
    {
      "cell_type": "code",
      "source": [
        "# creating a simple NN simple definition\n",
        "def simple_nn(xb):\n",
        "    res=xb@w1+b1\n",
        "    res=res.max(tensor(0.0))\n",
        "    res=xb@w2+b2\n",
        "    return res"
      ],
      "metadata": {
        "id": "X3kZDvGTkIDR"
      },
      "execution_count": 101,
      "outputs": []
    },
    {
      "cell_type": "code",
      "source": [
        "# initialise params\n",
        "w1=init_params((28*28,30))\n",
        "b1=init_params(30)\n",
        "w2=init_params((30,1))\n",
        "b2=init_params(1)"
      ],
      "metadata": {
        "id": "SzLWsdf4IQ4h"
      },
      "execution_count": 100,
      "outputs": []
    },
    {
      "cell_type": "code",
      "source": [
        "# using Sequential to define simple nn\n",
        "simple_net=nn.Sequential(\n",
        "nn.Linear(28*28,30),\n",
        "nn.ReLU(),\n",
        "nn.Linear(30,1))"
      ],
      "metadata": {
        "id": "_4RjG9p6Ih16"
      },
      "execution_count": 104,
      "outputs": []
    },
    {
      "cell_type": "code",
      "source": [
        "# define a learner\n",
        "learn=Learner(dls,simple_net,opt_func=SGD,metrics=batch_accuracy,loss_func=mnist_loss)"
      ],
      "metadata": {
        "id": "y5k09yVKJC6S"
      },
      "execution_count": 105,
      "outputs": []
    },
    {
      "cell_type": "code",
      "source": [
        "# fit learner\n",
        "learn.fit(40,0.1)"
      ],
      "metadata": {
        "colab": {
          "base_uri": "https://localhost:8080/",
          "height": 1000
        },
        "id": "bfFC5Bw9Jia1",
        "outputId": "8c2f14dc-dfdf-4b41-faef-f8cba6ddcfb8"
      },
      "execution_count": 106,
      "outputs": [
        {
          "output_type": "display_data",
          "data": {
            "text/plain": [
              "<IPython.core.display.HTML object>"
            ],
            "text/html": [
              "\n",
              "<style>\n",
              "    /* Turns off some styling */\n",
              "    progress {\n",
              "        /* gets rid of default border in Firefox and Opera. */\n",
              "        border: none;\n",
              "        /* Needs to be in here for Safari polyfill so background images work as expected. */\n",
              "        background-size: auto;\n",
              "    }\n",
              "    progress:not([value]), progress:not([value])::-webkit-progress-bar {\n",
              "        background: repeating-linear-gradient(45deg, #7e7e7e, #7e7e7e 10px, #5c5c5c 10px, #5c5c5c 20px);\n",
              "    }\n",
              "    .progress-bar-interrupted, .progress-bar-interrupted::-webkit-progress-bar {\n",
              "        background: #F44336;\n",
              "    }\n",
              "</style>\n"
            ]
          },
          "metadata": {}
        },
        {
          "output_type": "display_data",
          "data": {
            "text/plain": [
              "<IPython.core.display.HTML object>"
            ],
            "text/html": [
              "<table border=\"1\" class=\"dataframe\">\n",
              "  <thead>\n",
              "    <tr style=\"text-align: left;\">\n",
              "      <th>epoch</th>\n",
              "      <th>train_loss</th>\n",
              "      <th>valid_loss</th>\n",
              "      <th>batch_accuracy</th>\n",
              "      <th>time</th>\n",
              "    </tr>\n",
              "  </thead>\n",
              "  <tbody>\n",
              "    <tr>\n",
              "      <td>0</td>\n",
              "      <td>0.279079</td>\n",
              "      <td>0.417539</td>\n",
              "      <td>0.504416</td>\n",
              "      <td>00:00</td>\n",
              "    </tr>\n",
              "    <tr>\n",
              "      <td>1</td>\n",
              "      <td>0.135194</td>\n",
              "      <td>0.223625</td>\n",
              "      <td>0.808145</td>\n",
              "      <td>00:00</td>\n",
              "    </tr>\n",
              "    <tr>\n",
              "      <td>2</td>\n",
              "      <td>0.076809</td>\n",
              "      <td>0.114794</td>\n",
              "      <td>0.916094</td>\n",
              "      <td>00:00</td>\n",
              "    </tr>\n",
              "    <tr>\n",
              "      <td>3</td>\n",
              "      <td>0.051699</td>\n",
              "      <td>0.078002</td>\n",
              "      <td>0.939647</td>\n",
              "      <td>00:00</td>\n",
              "    </tr>\n",
              "    <tr>\n",
              "      <td>4</td>\n",
              "      <td>0.039854</td>\n",
              "      <td>0.061038</td>\n",
              "      <td>0.956820</td>\n",
              "      <td>00:00</td>\n",
              "    </tr>\n",
              "    <tr>\n",
              "      <td>5</td>\n",
              "      <td>0.033680</td>\n",
              "      <td>0.051507</td>\n",
              "      <td>0.961236</td>\n",
              "      <td>00:00</td>\n",
              "    </tr>\n",
              "    <tr>\n",
              "      <td>6</td>\n",
              "      <td>0.030062</td>\n",
              "      <td>0.045514</td>\n",
              "      <td>0.965653</td>\n",
              "      <td>00:00</td>\n",
              "    </tr>\n",
              "    <tr>\n",
              "      <td>7</td>\n",
              "      <td>0.027674</td>\n",
              "      <td>0.041414</td>\n",
              "      <td>0.965653</td>\n",
              "      <td>00:00</td>\n",
              "    </tr>\n",
              "    <tr>\n",
              "      <td>8</td>\n",
              "      <td>0.025932</td>\n",
              "      <td>0.038426</td>\n",
              "      <td>0.968597</td>\n",
              "      <td>00:00</td>\n",
              "    </tr>\n",
              "    <tr>\n",
              "      <td>9</td>\n",
              "      <td>0.024574</td>\n",
              "      <td>0.036131</td>\n",
              "      <td>0.970069</td>\n",
              "      <td>00:00</td>\n",
              "    </tr>\n",
              "    <tr>\n",
              "      <td>10</td>\n",
              "      <td>0.023466</td>\n",
              "      <td>0.034304</td>\n",
              "      <td>0.972031</td>\n",
              "      <td>00:00</td>\n",
              "    </tr>\n",
              "    <tr>\n",
              "      <td>11</td>\n",
              "      <td>0.022538</td>\n",
              "      <td>0.032804</td>\n",
              "      <td>0.973013</td>\n",
              "      <td>00:00</td>\n",
              "    </tr>\n",
              "    <tr>\n",
              "      <td>12</td>\n",
              "      <td>0.021744</td>\n",
              "      <td>0.031543</td>\n",
              "      <td>0.973503</td>\n",
              "      <td>00:00</td>\n",
              "    </tr>\n",
              "    <tr>\n",
              "      <td>13</td>\n",
              "      <td>0.021056</td>\n",
              "      <td>0.030459</td>\n",
              "      <td>0.973994</td>\n",
              "      <td>00:00</td>\n",
              "    </tr>\n",
              "    <tr>\n",
              "      <td>14</td>\n",
              "      <td>0.020452</td>\n",
              "      <td>0.029514</td>\n",
              "      <td>0.974485</td>\n",
              "      <td>00:00</td>\n",
              "    </tr>\n",
              "    <tr>\n",
              "      <td>15</td>\n",
              "      <td>0.019917</td>\n",
              "      <td>0.028678</td>\n",
              "      <td>0.976938</td>\n",
              "      <td>00:00</td>\n",
              "    </tr>\n",
              "    <tr>\n",
              "      <td>16</td>\n",
              "      <td>0.019438</td>\n",
              "      <td>0.027935</td>\n",
              "      <td>0.977429</td>\n",
              "      <td>00:00</td>\n",
              "    </tr>\n",
              "    <tr>\n",
              "      <td>17</td>\n",
              "      <td>0.019006</td>\n",
              "      <td>0.027268</td>\n",
              "      <td>0.977920</td>\n",
              "      <td>00:00</td>\n",
              "    </tr>\n",
              "    <tr>\n",
              "      <td>18</td>\n",
              "      <td>0.018612</td>\n",
              "      <td>0.026665</td>\n",
              "      <td>0.977920</td>\n",
              "      <td>00:00</td>\n",
              "    </tr>\n",
              "    <tr>\n",
              "      <td>19</td>\n",
              "      <td>0.018252</td>\n",
              "      <td>0.026118</td>\n",
              "      <td>0.977920</td>\n",
              "      <td>00:00</td>\n",
              "    </tr>\n",
              "    <tr>\n",
              "      <td>20</td>\n",
              "      <td>0.017921</td>\n",
              "      <td>0.025619</td>\n",
              "      <td>0.978410</td>\n",
              "      <td>00:00</td>\n",
              "    </tr>\n",
              "    <tr>\n",
              "      <td>21</td>\n",
              "      <td>0.017615</td>\n",
              "      <td>0.025161</td>\n",
              "      <td>0.978901</td>\n",
              "      <td>00:00</td>\n",
              "    </tr>\n",
              "    <tr>\n",
              "      <td>22</td>\n",
              "      <td>0.017331</td>\n",
              "      <td>0.024740</td>\n",
              "      <td>0.979392</td>\n",
              "      <td>00:00</td>\n",
              "    </tr>\n",
              "    <tr>\n",
              "      <td>23</td>\n",
              "      <td>0.017066</td>\n",
              "      <td>0.024352</td>\n",
              "      <td>0.980373</td>\n",
              "      <td>00:00</td>\n",
              "    </tr>\n",
              "    <tr>\n",
              "      <td>24</td>\n",
              "      <td>0.016817</td>\n",
              "      <td>0.023993</td>\n",
              "      <td>0.980373</td>\n",
              "      <td>00:00</td>\n",
              "    </tr>\n",
              "    <tr>\n",
              "      <td>25</td>\n",
              "      <td>0.016583</td>\n",
              "      <td>0.023659</td>\n",
              "      <td>0.981354</td>\n",
              "      <td>00:00</td>\n",
              "    </tr>\n",
              "    <tr>\n",
              "      <td>26</td>\n",
              "      <td>0.016363</td>\n",
              "      <td>0.023349</td>\n",
              "      <td>0.981354</td>\n",
              "      <td>00:00</td>\n",
              "    </tr>\n",
              "    <tr>\n",
              "      <td>27</td>\n",
              "      <td>0.016154</td>\n",
              "      <td>0.023061</td>\n",
              "      <td>0.981845</td>\n",
              "      <td>00:00</td>\n",
              "    </tr>\n",
              "    <tr>\n",
              "      <td>28</td>\n",
              "      <td>0.015957</td>\n",
              "      <td>0.022792</td>\n",
              "      <td>0.981845</td>\n",
              "      <td>00:00</td>\n",
              "    </tr>\n",
              "    <tr>\n",
              "      <td>29</td>\n",
              "      <td>0.015770</td>\n",
              "      <td>0.022541</td>\n",
              "      <td>0.981845</td>\n",
              "      <td>00:00</td>\n",
              "    </tr>\n",
              "    <tr>\n",
              "      <td>30</td>\n",
              "      <td>0.015592</td>\n",
              "      <td>0.022306</td>\n",
              "      <td>0.981845</td>\n",
              "      <td>00:00</td>\n",
              "    </tr>\n",
              "    <tr>\n",
              "      <td>31</td>\n",
              "      <td>0.015422</td>\n",
              "      <td>0.022086</td>\n",
              "      <td>0.982336</td>\n",
              "      <td>00:00</td>\n",
              "    </tr>\n",
              "    <tr>\n",
              "      <td>32</td>\n",
              "      <td>0.015260</td>\n",
              "      <td>0.021880</td>\n",
              "      <td>0.982336</td>\n",
              "      <td>00:00</td>\n",
              "    </tr>\n",
              "    <tr>\n",
              "      <td>33</td>\n",
              "      <td>0.015106</td>\n",
              "      <td>0.021687</td>\n",
              "      <td>0.982826</td>\n",
              "      <td>00:00</td>\n",
              "    </tr>\n",
              "    <tr>\n",
              "      <td>34</td>\n",
              "      <td>0.014957</td>\n",
              "      <td>0.021505</td>\n",
              "      <td>0.983317</td>\n",
              "      <td>00:00</td>\n",
              "    </tr>\n",
              "    <tr>\n",
              "      <td>35</td>\n",
              "      <td>0.014815</td>\n",
              "      <td>0.021335</td>\n",
              "      <td>0.983317</td>\n",
              "      <td>00:00</td>\n",
              "    </tr>\n",
              "    <tr>\n",
              "      <td>36</td>\n",
              "      <td>0.014679</td>\n",
              "      <td>0.021174</td>\n",
              "      <td>0.983317</td>\n",
              "      <td>00:00</td>\n",
              "    </tr>\n",
              "    <tr>\n",
              "      <td>37</td>\n",
              "      <td>0.014548</td>\n",
              "      <td>0.021022</td>\n",
              "      <td>0.983317</td>\n",
              "      <td>00:00</td>\n",
              "    </tr>\n",
              "    <tr>\n",
              "      <td>38</td>\n",
              "      <td>0.014421</td>\n",
              "      <td>0.020878</td>\n",
              "      <td>0.983317</td>\n",
              "      <td>00:00</td>\n",
              "    </tr>\n",
              "    <tr>\n",
              "      <td>39</td>\n",
              "      <td>0.014299</td>\n",
              "      <td>0.020742</td>\n",
              "      <td>0.983317</td>\n",
              "      <td>00:00</td>\n",
              "    </tr>\n",
              "  </tbody>\n",
              "</table>"
            ]
          },
          "metadata": {}
        }
      ]
    },
    {
      "cell_type": "code",
      "source": [
        "plt.plot(L(learn.recorder.values).itemgot(2))"
      ],
      "metadata": {
        "colab": {
          "base_uri": "https://localhost:8080/",
          "height": 283
        },
        "id": "no8rf1_rJr1q",
        "outputId": "0595a5d0-d3bc-415f-d3ae-7781ed75ed64"
      },
      "execution_count": 107,
      "outputs": [
        {
          "output_type": "execute_result",
          "data": {
            "text/plain": [
              "[<matplotlib.lines.Line2D at 0x7d00a23bd450>]"
            ]
          },
          "metadata": {},
          "execution_count": 107
        },
        {
          "output_type": "display_data",
          "data": {
            "text/plain": [
              "<Figure size 640x480 with 1 Axes>"
            ],
            "image/png": "[encoded data removed]"
          },
          "metadata": {}
        }
      ]
    },
    {
      "cell_type": "code",
      "source": [
        "learn.recorder.values[-1][2]"
      ],
      "metadata": {
        "colab": {
          "base_uri": "https://localhost:8080/"
        },
        "id": "L2WNsb9nJumB",
        "outputId": "f787bc7d-2b27-4127-f98c-5e666f213982"
      },
      "execution_count": 110,
      "outputs": [
        {
          "output_type": "execute_result",
          "data": {
            "text/plain": [
              "0.9931305050849915"
            ]
          },
          "metadata": {},
          "execution_count": 110
        }
      ]
    },
    {
      "cell_type": "markdown",
      "source": [
        "### Going deeper- using vision_learner"
      ],
      "metadata": {
        "id": "Ba8tY9eQJvIl"
      }
    },
    {
      "cell_type": "code",
      "source": [
        "dls=ImageDataLoaders.from_folder(path)\n",
        "learn=vision_learner(dls,resnet18, loss_func=F.cross_entropy,metrics=accuracy,pretrained=False)\n",
        "learn.fit_one_cycle(1,0.1)"
      ],
      "metadata": {
        "colab": {
          "base_uri": "https://localhost:8080/",
          "height": 100
        },
        "id": "_rqV4zCwJ1Yr",
        "outputId": "e7039eba-ad21-4deb-fd47-80f987e17eb7"
      },
      "execution_count": 109,
      "outputs": [
        {
          "output_type": "display_data",
          "data": {
            "text/plain": [
              "<IPython.core.display.HTML object>"
            ],
            "text/html": [
              "\n",
              "<style>\n",
              "    /* Turns off some styling */\n",
              "    progress {\n",
              "        /* gets rid of default border in Firefox and Opera. */\n",
              "        border: none;\n",
              "        /* Needs to be in here for Safari polyfill so background images work as expected. */\n",
              "        background-size: auto;\n",
              "    }\n",
              "    progress:not([value]), progress:not([value])::-webkit-progress-bar {\n",
              "        background: repeating-linear-gradient(45deg, #7e7e7e, #7e7e7e 10px, #5c5c5c 10px, #5c5c5c 20px);\n",
              "    }\n",
              "    .progress-bar-interrupted, .progress-bar-interrupted::-webkit-progress-bar {\n",
              "        background: #F44336;\n",
              "    }\n",
              "</style>\n"
            ]
          },
          "metadata": {}
        },
        {
          "output_type": "display_data",
          "data": {
            "text/plain": [
              "<IPython.core.display.HTML object>"
            ],
            "text/html": [
              "<table border=\"1\" class=\"dataframe\">\n",
              "  <thead>\n",
              "    <tr style=\"text-align: left;\">\n",
              "      <th>epoch</th>\n",
              "      <th>train_loss</th>\n",
              "      <th>valid_loss</th>\n",
              "      <th>accuracy</th>\n",
              "      <th>time</th>\n",
              "    </tr>\n",
              "  </thead>\n",
              "  <tbody>\n",
              "    <tr>\n",
              "      <td>0</td>\n",
              "      <td>0.094749</td>\n",
              "      <td>0.023833</td>\n",
              "      <td>0.993131</td>\n",
              "      <td>03:44</td>\n",
              "    </tr>\n",
              "  </tbody>\n",
              "</table>"
            ]
          },
          "metadata": {}
        }
      ]
    },
    {
      "cell_type": "markdown",
      "source": [
        "Done 👍✅✅👍✅✅"
      ],
      "metadata": {
        "id": "Jt5hvzTpLgQu"
      }
    }
  ]
}
